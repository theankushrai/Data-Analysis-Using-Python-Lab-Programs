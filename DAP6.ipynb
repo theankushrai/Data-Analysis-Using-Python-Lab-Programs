{
  "nbformat": 4,
  "nbformat_minor": 0,
  "metadata": {
    "colab": {
      "name": "DAP6.ipynb",
      "provenance": []
    },
    "kernelspec": {
      "name": "python3",
      "display_name": "Python 3"
    },
    "language_info": {
      "name": "python"
    }
  },
  "cells": [
    {
      "cell_type": "code",
      "metadata": {
        "colab": {
          "base_uri": "https://localhost:8080/"
        },
        "id": "5KF016BR73JY",
        "outputId": "d8fd9ce2-8506-4361-aaa5-6071eab0e9ca"
      },
      "source": [
        "import pandas as pd\n",
        "import numpy as np\n",
        "\n",
        "s = pd.Series(np.random.randn(2))\n",
        "print (s)"
      ],
      "execution_count": null,
      "outputs": [
        {
          "output_type": "stream",
          "name": "stdout",
          "text": [
            "0   -0.759245\n",
            "1    0.861149\n",
            "dtype: float64\n"
          ]
        }
      ]
    },
    {
      "cell_type": "code",
      "metadata": {
        "colab": {
          "base_uri": "https://localhost:8080/"
        },
        "id": "80yIvFj378-u",
        "outputId": "5420cb1b-aa96-46e9-c72e-960547f4648f"
      },
      "source": [
        "import pandas as pd\n",
        "import numpy as np\n",
        "\n",
        "s = pd.Series(np.random.randn(2))\n",
        "print (\"axes:\")\n",
        "print (s.axes)"
      ],
      "execution_count": null,
      "outputs": [
        {
          "output_type": "stream",
          "name": "stdout",
          "text": [
            "axes:\n",
            "[RangeIndex(start=0, stop=2, step=1)]\n"
          ]
        }
      ]
    },
    {
      "cell_type": "code",
      "metadata": {
        "colab": {
          "base_uri": "https://localhost:8080/"
        },
        "id": "eN3-CocB8A4W",
        "outputId": "77f406ef-fc95-45ed-b460-f44c307cac8d"
      },
      "source": [
        "import pandas as pd\n",
        "import numpy as np\n",
        "\n",
        "s = pd.Series(np.random.randn(2))\n",
        "print (\"Object seems empty!!\")\n",
        "print (s.empty)"
      ],
      "execution_count": null,
      "outputs": [
        {
          "output_type": "stream",
          "name": "stdout",
          "text": [
            "Object seems empty!!\n",
            "False\n"
          ]
        }
      ]
    },
    {
      "cell_type": "code",
      "metadata": {
        "colab": {
          "base_uri": "https://localhost:8080/"
        },
        "id": "n6BBLELG8Df-",
        "outputId": "f5077a98-f781-4809-89bb-8db2880a3d36"
      },
      "source": [
        "import pandas as pd\n",
        "import numpy as np\n",
        "\n",
        "s = pd.Series(np.random.randn(3))\n",
        "print (s)\n",
        "\n",
        "print (\"object dimensions :\")\n",
        "print (s.ndim)"
      ],
      "execution_count": null,
      "outputs": [
        {
          "output_type": "stream",
          "name": "stdout",
          "text": [
            "0   -0.909192\n",
            "1   -0.017415\n",
            "2   -0.103214\n",
            "dtype: float64\n",
            "object dimensions :\n",
            "1\n"
          ]
        }
      ]
    },
    {
      "cell_type": "code",
      "metadata": {
        "colab": {
          "base_uri": "https://localhost:8080/"
        },
        "id": "5PZNOMLK8GPU",
        "outputId": "5be6cf58-fb8a-4162-8771-6d92319d0897"
      },
      "source": [
        "import pandas as pd\n",
        "import numpy as np\n",
        "\n",
        "\n",
        "s = pd.Series(np.random.randn(6))\n",
        "print (s)\n",
        "print (\"object size:\")\n",
        "print (s.size)"
      ],
      "execution_count": null,
      "outputs": [
        {
          "output_type": "stream",
          "name": "stdout",
          "text": [
            "0    0.098369\n",
            "1   -0.375403\n",
            "2   -1.030183\n",
            "3   -2.128577\n",
            "4    1.077180\n",
            "5    1.102279\n",
            "dtype: float64\n",
            "object size:\n",
            "6\n"
          ]
        }
      ]
    },
    {
      "cell_type": "code",
      "metadata": {
        "colab": {
          "base_uri": "https://localhost:8080/"
        },
        "id": "vAgv9kCo8Iq-",
        "outputId": "8d51896d-dc3c-43c2-c1ae-b466d7e2e22f"
      },
      "source": [
        "import pandas as pd\n",
        "import numpy as np\n",
        "s = pd.Series(np.random.randn(4))\n",
        "print (s)\n",
        "\n",
        "print (\"The actual data series is:\")\n",
        "print (s.values)"
      ],
      "execution_count": null,
      "outputs": [
        {
          "output_type": "stream",
          "name": "stdout",
          "text": [
            "0    0.671994\n",
            "1   -0.411215\n",
            "2   -0.089290\n",
            "3    0.942397\n",
            "dtype: float64\n",
            "The actual data series is:\n",
            "[ 0.67199438 -0.41121522 -0.08929047  0.94239724]\n"
          ]
        }
      ]
    },
    {
      "cell_type": "code",
      "metadata": {
        "colab": {
          "base_uri": "https://localhost:8080/"
        },
        "id": "UYwupzzN8LeI",
        "outputId": "452973c0-663c-4804-f0aa-cfb452aaebe8"
      },
      "source": [
        "import pandas as pd\n",
        "import numpy as np\n",
        "\n",
        "s = pd.Series(np.random.randn(5))\n",
        "print (\"original series:\")\n",
        "print (s)\n",
        "\n",
        "print (\"first two rows:\")\n",
        "print (s.head(3))"
      ],
      "execution_count": null,
      "outputs": [
        {
          "output_type": "stream",
          "name": "stdout",
          "text": [
            "original series:\n",
            "0   -1.010848\n",
            "1   -0.171103\n",
            "2    1.405577\n",
            "3   -0.565069\n",
            "4    1.093213\n",
            "dtype: float64\n",
            "first two rows:\n",
            "0   -1.010848\n",
            "1   -0.171103\n",
            "2    1.405577\n",
            "dtype: float64\n"
          ]
        }
      ]
    },
    {
      "cell_type": "code",
      "metadata": {
        "colab": {
          "base_uri": "https://localhost:8080/"
        },
        "id": "DW4aMBAl8OG3",
        "outputId": "bbc3f4a2-d322-40c2-d63f-487376df64eb"
      },
      "source": [
        "import pandas as pd\n",
        "import numpy as np\n",
        "s = pd.Series(np.random.randn(4))\n",
        "print (\"The original series is:\")\n",
        "print (s)\n",
        "\n",
        "print (\"The last two rows of the data series:\")\n",
        "print (s.tail(1))"
      ],
      "execution_count": null,
      "outputs": [
        {
          "output_type": "stream",
          "name": "stdout",
          "text": [
            "The original series is:\n",
            "0    0.799643\n",
            "1   -1.313452\n",
            "2   -0.699106\n",
            "3    0.456479\n",
            "dtype: float64\n",
            "The last two rows of the data series:\n",
            "3    0.456479\n",
            "dtype: float64\n"
          ]
        }
      ]
    },
    {
      "cell_type": "code",
      "metadata": {
        "colab": {
          "base_uri": "https://localhost:8080/"
        },
        "id": "_UvYV6YB8RIU",
        "outputId": "35d83117-87c5-4db8-ff05-934d7b5ecbca"
      },
      "source": [
        "import pandas as pd\n",
        "import numpy as np\n",
        "d = {'Name':pd.Series(['Ankush','suman','rakesh','nishitha','abdur','Shubham','ravi']),\n",
        "   'Age':pd.Series([1,2,2,3,4,9,2]),\n",
        "   'Rating':pd.Series([0.23,1.32,2.80,2.62,5.3,4.6,1.3])}\n",
        "df = pd.DataFrame(d)\n",
        "print (\"data series:\")\n",
        "print (df)"
      ],
      "execution_count": null,
      "outputs": [
        {
          "output_type": "stream",
          "name": "stdout",
          "text": [
            "data series:\n",
            "       Name  Age  Rating\n",
            "0    Ankush    1    0.23\n",
            "1     suman    2    1.32\n",
            "2    rakesh    2    2.80\n",
            "3  nishitha    3    2.62\n",
            "4     abdur    4    5.30\n",
            "5   Shubham    9    4.60\n",
            "6      ravi    2    1.30\n"
          ]
        }
      ]
    },
    {
      "cell_type": "code",
      "metadata": {
        "colab": {
          "base_uri": "https://localhost:8080/"
        },
        "id": "_eYCTpuh8UiF",
        "outputId": "e4c4c8af-c123-498a-bc4d-c8c94c560696"
      },
      "source": [
        "import pandas as pd\n",
        "import numpy as np\n",
        "d = {'Name':pd.Series(['Ankush','suman','rakesh','nishitha','abdur','Shubham','ravi']),\n",
        "   'Age':pd.Series([1,2,3,4,2,3,3]),\n",
        "   'Rating':pd.Series([0.23,1.32,2.80,2.62,5.3,4.6,1.3])}\n",
        "\n",
        "df = pd.DataFrame(d)\n",
        "print (\"transpose:\")\n",
        "print (df.T)"
      ],
      "execution_count": null,
      "outputs": [
        {
          "output_type": "stream",
          "name": "stdout",
          "text": [
            "transpose:\n",
            "             0      1       2         3      4        5     6\n",
            "Name    Ankush  suman  rakesh  nishitha  abdur  Shubham  ravi\n",
            "Age          1      2       3         4      2        3     3\n",
            "Rating    0.23   1.32     2.8      2.62    5.3      4.6   1.3\n"
          ]
        }
      ]
    },
    {
      "cell_type": "code",
      "metadata": {
        "colab": {
          "base_uri": "https://localhost:8080/"
        },
        "id": "ae6ANbvh8XRe",
        "outputId": "9e009c95-c949-449a-d819-8b70c42cd698"
      },
      "source": [
        "import pandas as pd\n",
        "import numpy as np\n",
        "d = {'Name':pd.Series(['Ankush','suman','rakesh','nishitha','abdur','Shubham','ravi']),\n",
        "   'Age':pd.Series([1,2,3,4,2,3,3]),\n",
        "   'Rating':pd.Series([0.23,1.32,2.80,2.62,5.3,4.6,1.3])}\n",
        "df = pd.DataFrame(d)\n",
        "print (\"Row axis labels and column axis labels are:\")\n",
        "print (df.axes)"
      ],
      "execution_count": null,
      "outputs": [
        {
          "output_type": "stream",
          "name": "stdout",
          "text": [
            "Row axis labels and column axis labels are:\n",
            "[RangeIndex(start=0, stop=7, step=1), Index(['Name', 'Age', 'Rating'], dtype='object')]\n"
          ]
        }
      ]
    },
    {
      "cell_type": "code",
      "metadata": {
        "colab": {
          "base_uri": "https://localhost:8080/"
        },
        "id": "jeI5bqVS8aTi",
        "outputId": "002bcd9a-8762-467f-f3af-2b240ae5f3a1"
      },
      "source": [
        "import pandas as pd\n",
        "import numpy as np\n",
        "\n",
        "d = {'Name':pd.Series(['Ankush','suman','rakesh','nishitha','abdur','Shubham','ravi']),\n",
        "   'Age':pd.Series([1,2,3,4,2,3,3]),\n",
        "   'Rating':pd.Series([0.23,1.32,2.80,2.62,5.3,4.6,1.3])}\n",
        "df = pd.DataFrame(d)\n",
        "print (\"data types are:\")\n",
        "print (df.dtypes)"
      ],
      "execution_count": null,
      "outputs": [
        {
          "output_type": "stream",
          "name": "stdout",
          "text": [
            "data types are:\n",
            "Name       object\n",
            "Age         int64\n",
            "Rating    float64\n",
            "dtype: object\n"
          ]
        }
      ]
    },
    {
      "cell_type": "code",
      "metadata": {
        "colab": {
          "base_uri": "https://localhost:8080/"
        },
        "id": "XINTHCPu8dFP",
        "outputId": "c0530c51-708e-4f2d-9aa2-522fb68f538b"
      },
      "source": [
        "import pandas as pd\n",
        "import numpy as np\n",
        " \n",
        "d = {'Name':pd.Series(['Ankush','suman','rakesh','nishitha','abdur','Shubham','ravi']),\n",
        "   'Age':pd.Series([1,2,3,4,2,3,3]),\n",
        "   'Rating':pd.Series([0.23,1.32,2.80,2.62,5.3,4.6,1.3])}\n",
        " \n",
        "df = pd.DataFrame(d)\n",
        "print (\"Is the object empty?\")\n",
        "print (df.empty)"
      ],
      "execution_count": null,
      "outputs": [
        {
          "output_type": "stream",
          "name": "stdout",
          "text": [
            "Is the object empty?\n",
            "False\n"
          ]
        }
      ]
    },
    {
      "cell_type": "code",
      "metadata": {
        "colab": {
          "base_uri": "https://localhost:8080/"
        },
        "id": "AuSAbAId8f8s",
        "outputId": "7de7f570-a51b-455e-a59b-d41152d3ddf1"
      },
      "source": [
        "import pandas as pd\n",
        "import numpy as np\n",
        "d = {'Name':pd.Series(['Ankush','suman','rakesh','nishitha','abdur','Shubham','ravi']),\n",
        "   'Age':pd.Series([5,6,2,3,3,9,2]),\n",
        "   'Rating':pd.Series([0.23,1.32,2.80,2.62,5.3,4.6,1.3])}\n",
        "df = pd.DataFrame(d)\n",
        "print (df)\n",
        "print (\"The dimension of the object is:\")\n",
        "print (df.ndim)"
      ],
      "execution_count": null,
      "outputs": [
        {
          "output_type": "stream",
          "name": "stdout",
          "text": [
            "       Name  Age  Rating\n",
            "0    Ankush    5    0.23\n",
            "1     suman    6    1.32\n",
            "2    rakesh    2    2.80\n",
            "3  nishitha    3    2.62\n",
            "4     abdur    3    5.30\n",
            "5   Shubham    9    4.60\n",
            "6      ravi    2    1.30\n",
            "The dimension of the object is:\n",
            "2\n"
          ]
        }
      ]
    },
    {
      "cell_type": "code",
      "metadata": {
        "colab": {
          "base_uri": "https://localhost:8080/"
        },
        "id": "XikAe4tm8jDY",
        "outputId": "843e5ffb-e72d-4820-a9ec-1c7d92c32e4e"
      },
      "source": [
        "import pandas as pd\n",
        "import numpy as np\n",
        "d = {'Name':pd.Series(['Ankush','suman','rakesh','nishitha','abdur','Shubham','ravi']),\n",
        "   'Age':pd.Series([5,6,2,3,3,9,2]),\n",
        "   'Rating':pd.Series([0.23,1.32,2.80,2.62,5.3,4.6,1.3])}\n",
        "df = pd.DataFrame(d)\n",
        "print (df)\n",
        "print (\"The shape of the object is:\")\n",
        "print (df.shape)"
      ],
      "execution_count": null,
      "outputs": [
        {
          "output_type": "stream",
          "name": "stdout",
          "text": [
            "       Name  Age  Rating\n",
            "0    Ankush    5    0.23\n",
            "1     suman    6    1.32\n",
            "2    rakesh    2    2.80\n",
            "3  nishitha    3    2.62\n",
            "4     abdur    3    5.30\n",
            "5   Shubham    9    4.60\n",
            "6      ravi    2    1.30\n",
            "The shape of the object is:\n",
            "(7, 3)\n"
          ]
        }
      ]
    },
    {
      "cell_type": "code",
      "metadata": {
        "colab": {
          "base_uri": "https://localhost:8080/"
        },
        "id": "49RsIc5Q8mZ4",
        "outputId": "83d7b958-718b-4794-9b37-bc4934ce7029"
      },
      "source": [
        "import pandas as pd\n",
        "import numpy as np\n",
        "d = {'Name':pd.Series(['Ankush','suman','rakesh','nishitha','abdur','Shubham','ravi']),\n",
        "   'Age':pd.Series([5,6,2,3,3,9,2]),\n",
        "   'Rating':pd.Series([0.23,1.32,2.80,2.62,5.3,4.6,1.3])}\n",
        "df = pd.DataFrame(d)\n",
        "print (df)\n",
        "print (\"The actual data in our data frame is:\")\n",
        "print (df.values)"
      ],
      "execution_count": null,
      "outputs": [
        {
          "output_type": "stream",
          "name": "stdout",
          "text": [
            "       Name  Age  Rating\n",
            "0    Ankush    5    0.23\n",
            "1     suman    6    1.32\n",
            "2    rakesh    2    2.80\n",
            "3  nishitha    3    2.62\n",
            "4     abdur    3    5.30\n",
            "5   Shubham    9    4.60\n",
            "6      ravi    2    1.30\n",
            "The actual data in our data frame is:\n",
            "[['Ankush' 5 0.23]\n",
            " ['suman' 6 1.32]\n",
            " ['rakesh' 2 2.8]\n",
            " ['nishitha' 3 2.62]\n",
            " ['abdur' 3 5.3]\n",
            " ['Shubham' 9 4.6]\n",
            " ['ravi' 2 1.3]]\n"
          ]
        }
      ]
    },
    {
      "cell_type": "code",
      "metadata": {
        "colab": {
          "base_uri": "https://localhost:8080/"
        },
        "id": "QijaEYNO9R8-",
        "outputId": "2b71cb02-a845-4590-a04b-8f26e208bdf2"
      },
      "source": [
        "import pandas as pd\n",
        "import numpy as np\n",
        "d = {'Name':pd.Series(['Ankush','suman','rakesh','nishitha','abdur','Shubham','ravi']),\n",
        "   'Age':pd.Series([5,6,2,3,3,9,2]),\n",
        "   'Rating':pd.Series([0.23,1.32,2.80,2.62,5.3,4.6,1.3])}\n",
        "df = pd.DataFrame(d)\n",
        "print (df)\n",
        "print (\"The first two rows of the data frame is:\")\n",
        "print (df.head(3))\n",
        "print(\"default head values\")\n",
        "print (df.head())"
      ],
      "execution_count": null,
      "outputs": [
        {
          "output_type": "stream",
          "name": "stdout",
          "text": [
            "       Name  Age  Rating\n",
            "0    Ankush    5    0.23\n",
            "1     suman    6    1.32\n",
            "2    rakesh    2    2.80\n",
            "3  nishitha    3    2.62\n",
            "4     abdur    3    5.30\n",
            "5   Shubham    9    4.60\n",
            "6      ravi    2    1.30\n",
            "The first two rows of the data frame is:\n",
            "     Name  Age  Rating\n",
            "0  Ankush    5    0.23\n",
            "1   suman    6    1.32\n",
            "2  rakesh    2    2.80\n",
            "default head values\n",
            "       Name  Age  Rating\n",
            "0    Ankush    5    0.23\n",
            "1     suman    6    1.32\n",
            "2    rakesh    2    2.80\n",
            "3  nishitha    3    2.62\n",
            "4     abdur    3    5.30\n"
          ]
        }
      ]
    },
    {
      "cell_type": "code",
      "metadata": {
        "colab": {
          "base_uri": "https://localhost:8080/"
        },
        "id": "zzLDIVBC9U1e",
        "outputId": "636396fe-391b-4cec-df81-c99d59387484"
      },
      "source": [
        "import pandas as pd\n",
        "import numpy as np\n",
        "d = {'Name':pd.Series(['Ankush','suman','rakesh','nishitha','abdur','Shubham','ravi']),\n",
        "   'Age':pd.Series([5,6,2,3,3,9,2]), \n",
        "   'Rating':pd.Series([0.23,1.32,2.80,2.62,5.3,4.6,1.3])}\n",
        "df = pd.DataFrame(d)\n",
        "print (df)\n",
        "print (\"The last two rows of the data frame is:\")\n",
        "print (df.tail(2))"
      ],
      "execution_count": null,
      "outputs": [
        {
          "output_type": "stream",
          "name": "stdout",
          "text": [
            "       Name  Age  Rating\n",
            "0    Ankush    5    0.23\n",
            "1     suman    6    1.32\n",
            "2    rakesh    2    2.80\n",
            "3  nishitha    3    2.62\n",
            "4     abdur    3    5.30\n",
            "5   Shubham    9    4.60\n",
            "6      ravi    2    1.30\n",
            "The last two rows of the data frame is:\n",
            "      Name  Age  Rating\n",
            "5  Shubham    9     4.6\n",
            "6     ravi    2     1.3\n"
          ]
        }
      ]
    },
    {
      "cell_type": "code",
      "metadata": {
        "colab": {
          "base_uri": "https://localhost:8080/"
        },
        "id": "tMQ5IRPsDSPX",
        "outputId": "2547b765-fcb9-4efb-d4b2-b368141013a2"
      },
      "source": [
        "import pandas as pd\n",
        "data = [1,20,34,64,52]\n",
        "df = pd.DataFrame(data)\n",
        "print (df)"
      ],
      "execution_count": null,
      "outputs": [
        {
          "output_type": "stream",
          "name": "stdout",
          "text": [
            "    0\n",
            "0   1\n",
            "1  20\n",
            "2  34\n",
            "3  64\n",
            "4  52\n"
          ]
        }
      ]
    },
    {
      "cell_type": "code",
      "metadata": {
        "colab": {
          "base_uri": "https://localhost:8080/"
        },
        "id": "YWQP5F9KDhW3",
        "outputId": "69a1e2f5-3f82-4a99-b9a0-1149a65ada3a"
      },
      "source": [
        "import pandas as pd\n",
        "data = [[' Ankush',16],['Abdur',3],['Swati',30]]\n",
        "df = pd.DataFrame(data,columns=['Name','Age'])\n",
        "print (df)"
      ],
      "execution_count": null,
      "outputs": [
        {
          "output_type": "stream",
          "name": "stdout",
          "text": [
            "     Name  Age\n",
            "0   Ankush   16\n",
            "1   Abdur    3\n",
            "2   Swati   30\n"
          ]
        }
      ]
    },
    {
      "cell_type": "code",
      "metadata": {
        "colab": {
          "base_uri": "https://localhost:8080/"
        },
        "id": "RUE2OzzvD4WM",
        "outputId": "06ccdc1e-5400-4f06-e156-476ed52076bc"
      },
      "source": [
        "import pandas as pd\n",
        "data = [[' Ankush',16],['Abdur',3],['Swati',30]]\n",
        "df = pd.DataFrame(data,columns=['Name','Age'])\n",
        "print (df)"
      ],
      "execution_count": null,
      "outputs": [
        {
          "output_type": "stream",
          "name": "stdout",
          "text": [
            "     Name  Age\n",
            "0   Ankush   16\n",
            "1   Abdur    3\n",
            "2   Swati   30\n"
          ]
        }
      ]
    },
    {
      "cell_type": "code",
      "metadata": {
        "colab": {
          "base_uri": "https://localhost:8080/"
        },
        "id": "uWdROZiiEIlY",
        "outputId": "51cd499a-18d7-4c53-e4b5-f1b5a98915e2"
      },
      "source": [
        "import pandas as pd\n",
        "data = {'Name':['Ankush','suman','rakesh','ravi'],'Age':[18,14,20,24]}\n",
        "df = pd.DataFrame(data)\n",
        "print (df)"
      ],
      "execution_count": null,
      "outputs": [
        {
          "output_type": "stream",
          "name": "stdout",
          "text": [
            "     Name  Age\n",
            "0  Ankush   18\n",
            "1   suman   14\n",
            "2  rakesh   20\n",
            "3    ravi   24\n"
          ]
        }
      ]
    },
    {
      "cell_type": "code",
      "metadata": {
        "colab": {
          "base_uri": "https://localhost:8080/"
        },
        "id": "UEoDLDaJEtve",
        "outputId": "9e6b877e-81fa-45c2-c70f-274d5d4dd26d"
      },
      "source": [
        "import pandas as pd\n",
        "data = {'Name':['Ankush','suman','rakesh','ravi'],'Age':[18,14,20,24]}\n",
        "df = pd.DataFrame(data, index=['rank1','rank2','rank3','rank4'])\n",
        "print (df)"
      ],
      "execution_count": null,
      "outputs": [
        {
          "output_type": "stream",
          "name": "stdout",
          "text": [
            "         Name  Age\n",
            "rank1  Ankush   18\n",
            "rank2   suman   14\n",
            "rank3  rakesh   20\n",
            "rank4    ravi   24\n"
          ]
        }
      ]
    },
    {
      "cell_type": "code",
      "metadata": {
        "colab": {
          "base_uri": "https://localhost:8080/"
        },
        "id": "33XiJR4gFjQS",
        "outputId": "ef1b1df6-cc2f-4424-d8e0-af04efd5278e"
      },
      "source": [
        "import pandas as pd\n",
        "data = [{'a': 1, 'b': 2},{'a': 5, 'b': 10, 'c': 20}]\n",
        "df = pd.DataFrame(data)\n",
        "print (df)"
      ],
      "execution_count": null,
      "outputs": [
        {
          "output_type": "stream",
          "name": "stdout",
          "text": [
            "   a   b     c\n",
            "0  1   2   NaN\n",
            "1  5  10  20.0\n"
          ]
        }
      ]
    },
    {
      "cell_type": "code",
      "metadata": {
        "colab": {
          "base_uri": "https://localhost:8080/"
        },
        "id": "Z7TD8pKyFsOs",
        "outputId": "324dedb2-b6c3-4fae-8681-822fd2f4de8f"
      },
      "source": [
        "import pandas as pd\n",
        "data = [{'a': 10, 'b': 2},{'a': 15, 'b': 19, 'c': 2}]\n",
        "\n",
        "df1 = pd.DataFrame(data, index=['first', 'second'], columns=['a', 'b'])\n",
        "\n",
        "#With two column indices with one index with other name\n",
        "df2 = pd.DataFrame(data, index=['first', 'second'], columns=['a', 'b1'])\n",
        "print (df1)\n",
        "print (df2)"
      ],
      "execution_count": null,
      "outputs": [
        {
          "output_type": "stream",
          "name": "stdout",
          "text": [
            "         a   b\n",
            "first   10   2\n",
            "second  15  19\n",
            "         a  b1\n",
            "first   10 NaN\n",
            "second  15 NaN\n"
          ]
        }
      ]
    },
    {
      "cell_type": "code",
      "metadata": {
        "colab": {
          "base_uri": "https://localhost:8080/"
        },
        "id": "QkeRbEMqF0w3",
        "outputId": "c61e201d-3e0d-42ae-d43a-6a695c3d48f8"
      },
      "source": [
        "import pandas as pd\n",
        "d = {'one' : pd.Series([1, 2, 3], index=['a', 'b', 'c']),\n",
        "   'two' : pd.Series([1, 2, 3, 4], index=['a', 'b', 'c', 'd'])}\n",
        "df = pd.DataFrame(d)\n",
        "print (df)"
      ],
      "execution_count": null,
      "outputs": [
        {
          "output_type": "stream",
          "name": "stdout",
          "text": [
            "   one  two\n",
            "a  1.0    1\n",
            "b  2.0    2\n",
            "c  3.0    3\n",
            "d  NaN    4\n"
          ]
        }
      ]
    },
    {
      "cell_type": "code",
      "metadata": {
        "colab": {
          "base_uri": "https://localhost:8080/"
        },
        "id": "7OszKHOnF5_M",
        "outputId": "b378a001-280d-44a7-f2f5-919ea60ed47a"
      },
      "source": [
        "import pandas as pd\n",
        "d = {'one' : pd.Series([1, 2, 3], index=['a', 'b', 'c']),\n",
        "   'two' : pd.Series([16, 25, 34, 43], index=['a', 'b', 'c', 'd'])}\n",
        "\n",
        "df = pd.DataFrame(d)\n",
        "print (df['one'])"
      ],
      "execution_count": null,
      "outputs": [
        {
          "output_type": "stream",
          "name": "stdout",
          "text": [
            "a    1.0\n",
            "b    2.0\n",
            "c    3.0\n",
            "d    NaN\n",
            "Name: one, dtype: float64\n"
          ]
        }
      ]
    },
    {
      "cell_type": "code",
      "metadata": {
        "colab": {
          "base_uri": "https://localhost:8080/"
        },
        "id": "wCeIMwLMGDOZ",
        "outputId": "0a6da1d2-eae9-4af7-9c64-633ed49c89e8"
      },
      "source": [
        "import pandas as pd\n",
        "de = {'one' : pd.Series([10, 22, 32,44], index=['a', 'b', 'c','d']),\n",
        "   'two' : pd.Series([1, 2, 3, 4], index=['a', 'b', 'c', 'd'])}\n",
        "\n",
        "\n",
        "df = pd.DataFrame(de)\n",
        "print (df['one'])"
      ],
      "execution_count": null,
      "outputs": [
        {
          "output_type": "stream",
          "name": "stdout",
          "text": [
            "a    10\n",
            "b    22\n",
            "c    32\n",
            "d    44\n",
            "Name: one, dtype: int64\n"
          ]
        }
      ]
    },
    {
      "cell_type": "code",
      "metadata": {
        "colab": {
          "base_uri": "https://localhost:8080/"
        },
        "id": "3tx4vkNDNWiN",
        "outputId": "c0a11116-9d42-4c04-b237-f6fc2b81023e"
      },
      "source": [
        "# Adding a new column to an existing DataFrame object with column label by passing new series\n",
        "\n",
        "import pandas as pd\n",
        "\n",
        "d = {'one' : pd.Series([1, 2, 3], index=['a', 'b', 'c']),\n",
        "   'two' : pd.Series([1, 2, 3, 4], index=['a', 'b', 'c', 'd'])}\n",
        "\n",
        "df = pd.DataFrame(d)\n",
        "\n",
        "print (df)\n",
        "\n",
        "print (\"Adding a new column by passing as Series:\")\n",
        "df['three']=pd.Series([10,20,30],index=['a','b','c'])\n",
        "print (df)\n",
        "\n",
        "print (\"Adding a new column using the existing columns in DataFrame:\")\n",
        "df['four']=df['two']+df['three']\n",
        "\n",
        "print (df)"
      ],
      "execution_count": null,
      "outputs": [
        {
          "output_type": "stream",
          "name": "stdout",
          "text": [
            "   one  two\n",
            "a  1.0    1\n",
            "b  2.0    2\n",
            "c  3.0    3\n",
            "d  NaN    4\n",
            "Adding a new column by passing as Series:\n",
            "   one  two  three\n",
            "a  1.0    1   10.0\n",
            "b  2.0    2   20.0\n",
            "c  3.0    3   30.0\n",
            "d  NaN    4    NaN\n",
            "Adding a new column using the existing columns in DataFrame:\n",
            "   one  two  three  four\n",
            "a  1.0    1   10.0  11.0\n",
            "b  2.0    2   20.0  22.0\n",
            "c  3.0    3   30.0  33.0\n",
            "d  NaN    4    NaN   NaN\n"
          ]
        }
      ]
    },
    {
      "cell_type": "code",
      "metadata": {
        "colab": {
          "base_uri": "https://localhost:8080/"
        },
        "id": "J7eQnSH7Npjs",
        "outputId": "fab0e005-9a94-4167-9861-74ed0ec2e269"
      },
      "source": [
        "import pandas as pd\n",
        "\n",
        "d = {'one' : pd.Series([1, 2, 3], index=['a', 'b', 'c']), \n",
        "   'two' : pd.Series([1, 2, 3, 4], index=['a', 'b', 'c', 'd']), \n",
        "   'three' : pd.Series([10,20,30], index=['a','b','c'])}\n",
        "\n",
        "df = pd.DataFrame(d)\n",
        "print (\"Our dataframe is:\")\n",
        "print (df)\n",
        "print (\"Deleting the first column using DEL function:\")\n",
        "del df['one']\n",
        "print (df)\n",
        "print (\"Deleting another column using POP function:\")\n",
        "df.pop('two')\n",
        "print (df)"
      ],
      "execution_count": null,
      "outputs": [
        {
          "output_type": "stream",
          "name": "stdout",
          "text": [
            "Our dataframe is:\n",
            "   one  two  three\n",
            "a  1.0    1   10.0\n",
            "b  2.0    2   20.0\n",
            "c  3.0    3   30.0\n",
            "d  NaN    4    NaN\n",
            "Deleting the first column using DEL function:\n",
            "   two  three\n",
            "a    1   10.0\n",
            "b    2   20.0\n",
            "c    3   30.0\n",
            "d    4    NaN\n",
            "Deleting another column using POP function:\n",
            "   three\n",
            "a   10.0\n",
            "b   20.0\n",
            "c   30.0\n",
            "d    NaN\n"
          ]
        }
      ]
    },
    {
      "cell_type": "code",
      "metadata": {
        "colab": {
          "base_uri": "https://localhost:8080/"
        },
        "id": "4Q22XMLENygx",
        "outputId": "469cdb89-fbea-47b8-e487-abb3bd30c5da"
      },
      "source": [
        "import pandas as pd\n",
        "\n",
        "d = {'one' : pd.Series([1, 3, 5], index=['a', 'b', 'c']), \n",
        "   'two' : pd.Series([1, 2, 3, 4], index=['a', 'b', 'c', 'd'])}\n",
        "\n",
        "df = pd.DataFrame(d)\n",
        "print (df.loc['b'])"
      ],
      "execution_count": null,
      "outputs": [
        {
          "output_type": "stream",
          "name": "stdout",
          "text": [
            "one    3.0\n",
            "two    2.0\n",
            "Name: b, dtype: float64\n"
          ]
        }
      ]
    },
    {
      "cell_type": "code",
      "metadata": {
        "colab": {
          "base_uri": "https://localhost:8080/"
        },
        "id": "cqKg5T7ON51U",
        "outputId": "724b5df5-1db8-4151-9e0f-558255f14b11"
      },
      "source": [
        "import pandas as pd\n",
        "\n",
        "d = {'one' : pd.Series([1, 3, 5], index=['a', 'b', 'c']), \n",
        "   'two' : pd.Series([1, 2, 3, 4], index=['a', 'b', 'c', 'd'])}\n",
        "\n",
        "df = pd.DataFrame(d)\n",
        "print (df.iloc[2])"
      ],
      "execution_count": null,
      "outputs": [
        {
          "output_type": "stream",
          "name": "stdout",
          "text": [
            "one    5.0\n",
            "two    3.0\n",
            "Name: c, dtype: float64\n"
          ]
        }
      ]
    },
    {
      "cell_type": "code",
      "metadata": {
        "colab": {
          "base_uri": "https://localhost:8080/"
        },
        "id": "j_uAKSe0N_l7",
        "outputId": "3e83e0f7-4800-4d14-95cc-a4ec35759afa"
      },
      "source": [
        "import pandas as pd\n",
        "d = {'one' : pd.Series([1, 3, 5], index=['a', 'b', 'c']), \n",
        "   'two' : pd.Series([1, 2, 3, 4], index=['a', 'b', 'c', 'd'])}\n",
        "\n",
        "df = pd.DataFrame(d)\n",
        "print (df[2:4])"
      ],
      "execution_count": null,
      "outputs": [
        {
          "output_type": "stream",
          "name": "stdout",
          "text": [
            "   one  two\n",
            "c  5.0    3\n",
            "d  NaN    4\n"
          ]
        }
      ]
    },
    {
      "cell_type": "code",
      "metadata": {
        "colab": {
          "base_uri": "https://localhost:8080/"
        },
        "id": "6d4lbHflNh6q",
        "outputId": "3353e943-c682-453f-abc4-c7a714ee47c1"
      },
      "source": [
        "import pandas as pd\n",
        "df = pd.DataFrame([[1, 3], [5, 7]], columns = ['a','b'])\n",
        "df2 = pd.DataFrame([[9, 11], [13, 15]], columns = ['a','b'])\n",
        "print (df)\n",
        "print(\"after appending\")\n",
        "df = df.append(df2)\n",
        "print (df)"
      ],
      "execution_count": null,
      "outputs": [
        {
          "output_type": "stream",
          "name": "stdout",
          "text": [
            "   a  b\n",
            "0  1  3\n",
            "1  5  7\n",
            "after appending\n",
            "    a   b\n",
            "0   1   3\n",
            "1   5   7\n",
            "0   9  11\n",
            "1  13  15\n"
          ]
        }
      ]
    },
    {
      "cell_type": "code",
      "metadata": {
        "colab": {
          "base_uri": "https://localhost:8080/"
        },
        "id": "IaVSh1Y1NZK6",
        "outputId": "b49121c6-613e-450d-eb6b-13108ca7ee23"
      },
      "source": [
        "#Deletion of Rows\n",
        "\n",
        "import pandas as pd\n",
        "\n",
        "df = pd.DataFrame([[1, 3], [5, 7]], columns = ['a','b'])\n",
        "df2 = pd.DataFrame([[9, 11], [13, 15]], columns = ['a','b'])\n",
        "\n",
        "df = df.append(df2)\n",
        "\n",
        "# Drop rows with label 0\n",
        "df = df.drop(0)\n",
        "\n",
        "print (df)"
      ],
      "execution_count": null,
      "outputs": [
        {
          "output_type": "stream",
          "name": "stdout",
          "text": [
            "    a   b\n",
            "1   5   7\n",
            "1  13  15\n"
          ]
        }
      ]
    }
  ]
}