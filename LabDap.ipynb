{
  "nbformat": 4,
  "nbformat_minor": 0,
  "metadata": {
    "colab": {
      "name": "LabDap.ipynb",
      "provenance": []
    },
    "kernelspec": {
      "name": "python3",
      "display_name": "Python 3"
    },
    "language_info": {
      "name": "python"
    }
  },
  "cells": [
    {
      "cell_type": "code",
      "metadata": {
        "colab": {
          "base_uri": "https://localhost:8080/"
        },
        "id": "5PRiZ7NMEN37",
        "outputId": "25cd8cbc-ddb9-4aa7-c392-b2d208a2f752"
      },
      "source": [
        "import pandas as pd\n",
        "import numpy as np\n",
        "\n",
        "#Create a Dictionary of series\n",
        "d = {'Name':pd.Series(['Abc','Xyz','Def','Pqr','Stu','Mno','Bcd',\n",
        "   'Cde','Ghi','Lmn','Nop','Efg']),\n",
        "   'Age':pd.Series([30,31,32,30,25,27,26,34,40,30,51,46]),\n",
        "   'Rating':pd.Series([4.23,3.24,3.98,2.56,3.20,4.6,3.8,3.78,2.98,4.80,4.10,3.65])\n",
        "}\n",
        "\n",
        "#Create a DataFrame\n",
        "df = pd.DataFrame(d)\n",
        "print (df)"
      ],
      "execution_count": null,
      "outputs": [
        {
          "output_type": "stream",
          "name": "stdout",
          "text": [
            "   Name  Age  Rating\n",
            "0   Abc   30    4.23\n",
            "1   Xyz   31    3.24\n",
            "2   Def   32    3.98\n",
            "3   Pqr   30    2.56\n",
            "4   Stu   25    3.20\n",
            "5   Mno   27    4.60\n",
            "6   Bcd   26    3.80\n",
            "7   Cde   34    3.78\n",
            "8   Ghi   40    2.98\n",
            "9   Lmn   30    4.80\n",
            "10  Nop   51    4.10\n",
            "11  Efg   46    3.65\n"
          ]
        }
      ]
    },
    {
      "cell_type": "code",
      "metadata": {
        "colab": {
          "base_uri": "https://localhost:8080/"
        },
        "id": "v6nRr3-oE5lI",
        "outputId": "f4ed65f1-19d5-4b44-948c-9c592bb2c4a2"
      },
      "source": [
        "import pandas as pd\n",
        "import numpy as np\n",
        " \n",
        "#Create a Dictionary of series\n",
        "d = {'Name':pd.Series(['Abc','Xyz','Def','Pqr','Stu','Mno','Bcd',\n",
        "   'Cde','Ghi','Lmn','Nop','Efg']),\n",
        "   'Age':pd.Series([30,31,32,30,25,27,26,34,40,30,51,46]),\n",
        "   'Rating':pd.Series([4.23,3.24,3.98,2.56,3.20,4.6,3.8,3.78,2.98,4.80,4.10,3.65])\n",
        "}\n",
        "\n",
        "#Create a DataFrame\n",
        "df = pd.DataFrame(d)\n",
        "print (df.sum())\n"
      ],
      "execution_count": null,
      "outputs": [
        {
          "output_type": "stream",
          "name": "stdout",
          "text": [
            "Name      AbcXyzDefPqrStuMnoBcdCdeGhiLmnNopEfg\n",
            "Age                                        402\n",
            "Rating                                   44.92\n",
            "dtype: object\n"
          ]
        }
      ]
    },
    {
      "cell_type": "code",
      "metadata": {
        "colab": {
          "base_uri": "https://localhost:8080/"
        },
        "id": "RR38GOILFHK9",
        "outputId": "c1f5cdb3-c836-44b2-826f-1b72e50476a2"
      },
      "source": [
        "import pandas as pd\n",
        "import numpy as np\n",
        " \n",
        "#Create a Dictionary of series\n",
        "d = {'Name':pd.Series(['Abc','Xyz','Def','Pqr','Stu','Mno','Bcd',\n",
        "   'Cde','Ghi','Lmn','Nop','Efg']),\n",
        "   'Age':pd.Series([30,31,32,30,25,27,26,34,40,30,51,46]),\n",
        "   'Rating':pd.Series([4.23,3.24,3.98,2.56,3.20,4.6,3.8,3.78,2.98,4.80,4.10,3.65])\n",
        "}\n",
        " \n",
        "#Create a DataFrame\n",
        "df = pd.DataFrame(d)\n",
        "print (df.sum(1))"
      ],
      "execution_count": null,
      "outputs": [
        {
          "output_type": "stream",
          "name": "stdout",
          "text": [
            "0     34.23\n",
            "1     34.24\n",
            "2     35.98\n",
            "3     32.56\n",
            "4     28.20\n",
            "5     31.60\n",
            "6     29.80\n",
            "7     37.78\n",
            "8     42.98\n",
            "9     34.80\n",
            "10    55.10\n",
            "11    49.65\n",
            "dtype: float64\n"
          ]
        }
      ]
    },
    {
      "cell_type": "code",
      "metadata": {
        "colab": {
          "base_uri": "https://localhost:8080/"
        },
        "id": "jjceHEMeFQPs",
        "outputId": "06e98874-6141-4716-8d82-6b1731eb4a6d"
      },
      "source": [
        "import pandas as pd\n",
        "import numpy as np\n",
        "\n",
        "#Create a Dictionary of series\n",
        "d = {'Name':pd.Series(['Abc','Xyz','Def','Pqr','Stu','Mno','Bcd',\n",
        "   'Cde','Ghi','Lmn','Nop','Efg']),\n",
        "   'Age':pd.Series([30,31,32,30,25,27,26,34,40,30,51,46]),\n",
        "   'Rating':pd.Series([4.23,3.24,3.98,2.56,3.20,4.6,3.8,3.78,2.98,4.80,4.10,3.65])\n",
        "}\n",
        "\n",
        "#Create a DataFrame\n",
        "df = pd.DataFrame(d)\n",
        "print (df.mean())"
      ],
      "execution_count": null,
      "outputs": [
        {
          "output_type": "stream",
          "name": "stdout",
          "text": [
            "Age       33.500000\n",
            "Rating     3.743333\n",
            "dtype: float64\n"
          ]
        }
      ]
    },
    {
      "cell_type": "code",
      "metadata": {
        "colab": {
          "base_uri": "https://localhost:8080/"
        },
        "id": "4iFCauBJFW6O",
        "outputId": "b8355a96-6257-41fe-8879-98f821b74571"
      },
      "source": [
        "import pandas as pd\n",
        "import numpy as np\n",
        "\n",
        "#Create a Dictionary of series\n",
        "d = {'Name':pd.Series(['Abc','Xyz','Def','Pqr','Stu','Mno','Bcd',\n",
        "   'Cde','Ghi','Lmn','Nop','Efg']),\n",
        "   'Age':pd.Series([30,31,32,30,25,27,26,34,40,30,51,46]),\n",
        "   'Rating':pd.Series([4.23,3.24,3.98,2.56,3.20,4.6,3.8,3.78,2.98,4.80,4.10,3.65])\n",
        "}\n",
        "\n",
        "#Create a DataFrame\n",
        "df = pd.DataFrame(d)\n",
        "print (df.std())"
      ],
      "execution_count": null,
      "outputs": [
        {
          "output_type": "stream",
          "name": "stdout",
          "text": [
            "Age       8.096015\n",
            "Rating    0.661628\n",
            "dtype: float64\n"
          ]
        }
      ]
    },
    {
      "cell_type": "code",
      "metadata": {
        "colab": {
          "base_uri": "https://localhost:8080/"
        },
        "id": "1ZndYzcvFdyf",
        "outputId": "39794ddc-9b13-48af-de1c-5e61ac0a9e35"
      },
      "source": [
        "import pandas as pd\n",
        "import numpy as np\n",
        "\n",
        "#Create a Dictionary of series\n",
        "d = {'Name':pd.Series(['Abc','Xyz','Def','Pqr','Stu','Mno','Bcd',\n",
        "   'Cde','Ghi','Lmn','Nop','Efg']),\n",
        "   'Age':pd.Series([30,31,32,30,25,27,26,34,40,30,51,46]),\n",
        "   'Rating':pd.Series([4.23,3.24,3.98,2.56,3.20,4.6,3.8,3.78,2.98,4.80,4.10,3.65])\n",
        "}\n",
        "\n",
        "#Create a DataFrame\n",
        "df = pd.DataFrame(d)\n",
        "print (df.describe())"
      ],
      "execution_count": null,
      "outputs": [
        {
          "output_type": "stream",
          "name": "stdout",
          "text": [
            "             Age     Rating\n",
            "count  12.000000  12.000000\n",
            "mean   33.500000   3.743333\n",
            "std     8.096015   0.661628\n",
            "min    25.000000   2.560000\n",
            "25%    29.250000   3.230000\n",
            "50%    30.500000   3.790000\n",
            "75%    35.500000   4.132500\n",
            "max    51.000000   4.800000\n"
          ]
        }
      ]
    },
    {
      "cell_type": "code",
      "metadata": {
        "colab": {
          "base_uri": "https://localhost:8080/"
        },
        "id": "hR6TsFkfFk8k",
        "outputId": "f9edb81f-d902-49bb-8c97-a8615070c649"
      },
      "source": [
        "import pandas as pd\n",
        "import numpy as np\n",
        "\n",
        "#Create a Dictionary of series\n",
        "d = {'Name':pd.Series(['Abc','Xyz','Def','Pqr','Stu','Mno','Bcd',\n",
        "   'Cde','Ghi','Lmn','Nop','Efg']),\n",
        "   'Age':pd.Series([30,31,32,30,25,27,26,34,40,30,51,46]),\n",
        "   'Rating':pd.Series([4.23,3.24,3.98,2.56,3.20,4.6,3.8,3.78,2.98,4.80,4.10,3.65])\n",
        "}\n",
        "\n",
        "#Create a DataFrame\n",
        "df = pd.DataFrame(d)\n",
        "print (df.describe(include=['object']))"
      ],
      "execution_count": null,
      "outputs": [
        {
          "output_type": "stream",
          "name": "stdout",
          "text": [
            "       Name\n",
            "count    12\n",
            "unique   12\n",
            "top     Xyz\n",
            "freq      1\n"
          ]
        }
      ]
    },
    {
      "cell_type": "code",
      "metadata": {
        "colab": {
          "base_uri": "https://localhost:8080/"
        },
        "id": "WQZ-H-kIFrim",
        "outputId": "2f0b53c5-7177-4553-b6cf-38567f2ee2c4"
      },
      "source": [
        "import pandas as pd\n",
        "import numpy as np\n",
        "\n",
        "#Create a Dictionary of series\n",
        "d = {'Name':pd.Series(['Abc','Xyz','Def','Pqr','Stu','Mno','Bcd',\n",
        "   'Cde','Ghi','Lmn','Nop','Efg']),\n",
        "   'Age':pd.Series([30,31,32,30,25,27,26,34,40,30,51,46]),\n",
        "   'Rating':pd.Series([4.23,3.24,3.98,2.56,3.20,4.6,3.8,3.78,2.98,4.80,4.10,3.65])\n",
        "}\n",
        "\n",
        "#Create a DataFrame\n",
        "df = pd.DataFrame(d)\n",
        "print (df. describe(include='all'))"
      ],
      "execution_count": null,
      "outputs": [
        {
          "output_type": "stream",
          "name": "stdout",
          "text": [
            "       Name        Age     Rating\n",
            "count    12  12.000000  12.000000\n",
            "unique   12        NaN        NaN\n",
            "top     Xyz        NaN        NaN\n",
            "freq      1        NaN        NaN\n",
            "mean    NaN  33.500000   3.743333\n",
            "std     NaN   8.096015   0.661628\n",
            "min     NaN  25.000000   2.560000\n",
            "25%     NaN  29.250000   3.230000\n",
            "50%     NaN  30.500000   3.790000\n",
            "75%     NaN  35.500000   4.132500\n",
            "max     NaN  51.000000   4.800000\n"
          ]
        }
      ]
    },
    {
      "cell_type": "code",
      "metadata": {
        "colab": {
          "base_uri": "https://localhost:8080/"
        },
        "id": "FQBlIagRFxyE",
        "outputId": "8064aeab-904f-483a-b7cd-478f4c254c30"
      },
      "source": [
        "# Import package\n",
        "from pandas import DataFrame\n",
        "\n",
        "# Create DataFrame\n",
        "cart = {'Product': ['Samsung', 'Apple', 'Xiaomi', 'Oppo', 'Huwaei'],\n",
        "\t\t'Price': [20000, 48000, 22000, 19000, 45000],\n",
        "\t\t'Year': [2014, 2015, 2016, 2017, 2018]\n",
        "\t\t}\n",
        "df = DataFrame(cart, columns = ['Product', 'Price', 'Year'])\n",
        "\n",
        "# Original DataFrame\n",
        "print(\"Original DataFrame:\\n\", df)\n",
        "\n",
        "# Describing descriptive statistics of Price\n",
        "print(\"\\nDescriptive statistics of Price:\\n\")\n",
        "stats = df['Price'].describe()\n",
        "print(stats)\n"
      ],
      "execution_count": null,
      "outputs": [
        {
          "output_type": "stream",
          "name": "stdout",
          "text": [
            "Original DataFrame:\n",
            "    Product  Price  Year\n",
            "0  Samsung  20000  2014\n",
            "1    Apple  48000  2015\n",
            "2   Xiaomi  22000  2016\n",
            "3     Oppo  19000  2017\n",
            "4   Huwaei  45000  2018\n",
            "\n",
            "Descriptive statistics of Price:\n",
            "\n",
            "count        5.00000\n",
            "mean     30800.00000\n",
            "std      14411.80072\n",
            "min      19000.00000\n",
            "25%      20000.00000\n",
            "50%      22000.00000\n",
            "75%      45000.00000\n",
            "max      48000.00000\n",
            "Name: Price, dtype: float64\n"
          ]
        }
      ]
    },
    {
      "cell_type": "code",
      "metadata": {
        "colab": {
          "base_uri": "https://localhost:8080/"
        },
        "id": "tHBrXF37GOGG",
        "outputId": "28a9752b-72d7-4f7a-8a11-c4c7a1a1aee9"
      },
      "source": [
        "# Import package\n",
        "\n",
        "\n",
        "# Create DataFrame\n",
        "cart = {'Product': ['Samsung', 'Apple', 'Xiaomi', 'Oppo', 'Huwaei'],\n",
        "\t\t'Price': [20000, 48000, 22000, 19000, 45000],\n",
        "\t\t'Year': [2014, 2015, 2016, 2017, 2018]\n",
        "\t\t}\n",
        "df = DataFrame(cart, columns = ['Product', 'Price', 'Year'])\n",
        "\n",
        "# Original DataFrame\n",
        "print(\"Original DataFrame:\\n\", df)\n",
        "\n",
        "# Describing descriptive statistics of Year\n",
        "print(\"\\nDescriptive statistics of year:\\n\")\n",
        "stats = df['Year'].describe()\n",
        "print(stats)"
      ],
      "execution_count": null,
      "outputs": [
        {
          "output_type": "stream",
          "name": "stdout",
          "text": [
            "Original DataFrame:\n",
            "    Product  Price  Year\n",
            "0  Samsung  20000  2014\n",
            "1    Apple  48000  2015\n",
            "2   Xiaomi  22000  2016\n",
            "3     Oppo  19000  2017\n",
            "4   Huwaei  45000  2018\n",
            "\n",
            "Descriptive statistics of year:\n",
            "\n",
            "count       5.000000\n",
            "mean     2016.000000\n",
            "std         1.581139\n",
            "min      2014.000000\n",
            "25%      2015.000000\n",
            "50%      2016.000000\n",
            "75%      2017.000000\n",
            "max      2018.000000\n",
            "Name: Year, dtype: float64\n"
          ]
        }
      ]
    },
    {
      "cell_type": "code",
      "metadata": {
        "colab": {
          "base_uri": "https://localhost:8080/"
        },
        "id": "A5ZyASutGUds",
        "outputId": "b10e03d3-a1d6-46da-c13c-5d5148461428"
      },
      "source": [
        "# Create DataFrame\n",
        "cart = {'Product': ['Samsung', 'Apple', 'Xiaomi', 'Oppo', 'Huwaei'],\n",
        "\t\t'Price': [20000, 48000, 22000, 19000, 45000], \n",
        "\t\t'Year': [2014, 2015, 2016, 2017, 2018]\n",
        "\t\t}\n",
        "df = DataFrame(cart, columns = ['Product', 'Price', 'Year'])\n",
        "\n",
        "# Original DataFrame\n",
        "print(\"Original DataFrame:\\n\", df)\n",
        "\n",
        "# Describing descriptive statistics of whole dataframe\n",
        "print(\"\\nDescriptive statistics of whole dataframe:\\n\")\n",
        "stats = df.describe(include = 'all')\n",
        "print(stats)\n"
      ],
      "execution_count": null,
      "outputs": [
        {
          "output_type": "stream",
          "name": "stdout",
          "text": [
            "Original DataFrame:\n",
            "    Product  Price  Year\n",
            "0  Samsung  20000  2014\n",
            "1    Apple  48000  2015\n",
            "2   Xiaomi  22000  2016\n",
            "3     Oppo  19000  2017\n",
            "4   Huwaei  45000  2018\n",
            "\n",
            "Descriptive statistics of whole dataframe:\n",
            "\n",
            "       Product        Price         Year\n",
            "count        5      5.00000     5.000000\n",
            "unique       5          NaN          NaN\n",
            "top     Huwaei          NaN          NaN\n",
            "freq         1          NaN          NaN\n",
            "mean       NaN  30800.00000  2016.000000\n",
            "std        NaN  14411.80072     1.581139\n",
            "min        NaN  19000.00000  2014.000000\n",
            "25%        NaN  20000.00000  2015.000000\n",
            "50%        NaN  22000.00000  2016.000000\n",
            "75%        NaN  45000.00000  2017.000000\n",
            "max        NaN  48000.00000  2018.000000\n"
          ]
        }
      ]
    },
    {
      "cell_type": "code",
      "metadata": {
        "colab": {
          "base_uri": "https://localhost:8080/"
        },
        "id": "KVfr4suhGbJE",
        "outputId": "9837a589-07df-4992-d3c1-d6e2c5dd34bb"
      },
      "source": [
        "# Create DataFrame\n",
        "cart = {'Product': ['Samsung', 'Apple', 'Xiaomi', 'Oppo', 'Huwaei'],\n",
        "\t\t'Price': [20000, 48000, 22000, 19000, 45000], \n",
        "\t\t'Year': [2014, 2015, 2016, 2017, 2018]\n",
        "\t\t}\n",
        "df = DataFrame(cart, columns = ['Product', 'Price', 'Year'])\n",
        "\n",
        "# Original DataFrame\n",
        "print(\"Original DataFrame:\\n\", df)\n",
        "\n",
        "# Print Count of Price\n",
        "print(\"\\nCount of Price:\\n\")\n",
        "counts = df['Price'].count()\n",
        "print(counts)\n",
        "\n",
        "# Print mean of Price\n",
        "print(\"\\nMean of Price:\\n\")\n",
        "m = df['Price'].mean()\n",
        "print(m)\n",
        "\n",
        "# Print maximum value of Price\n",
        "print(\"\\nMaximum value of Price:\\n\")\n",
        "mx = df['Price'].max()\n",
        "print(m)\n",
        "\n",
        "# Print standard deviation of Price\n",
        "print(\"\\nStandard deviation of Price:\\n\")\n",
        "sd = df['Price'].std()\n",
        "print(sd)\n"
      ],
      "execution_count": null,
      "outputs": [
        {
          "output_type": "stream",
          "name": "stdout",
          "text": [
            "Original DataFrame:\n",
            "    Product  Price  Year\n",
            "0  Samsung  20000  2014\n",
            "1    Apple  48000  2015\n",
            "2   Xiaomi  22000  2016\n",
            "3     Oppo  19000  2017\n",
            "4   Huwaei  45000  2018\n",
            "\n",
            "Count of Price:\n",
            "\n",
            "5\n",
            "\n",
            "Mean of Price:\n",
            "\n",
            "30800.0\n",
            "\n",
            "Maximum value of Price:\n",
            "\n",
            "30800.0\n",
            "\n",
            "Standard deviation of Price:\n",
            "\n",
            "14411.800720243116\n"
          ]
        }
      ]
    }
  ]
}