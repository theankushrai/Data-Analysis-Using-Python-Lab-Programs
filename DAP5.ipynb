{
  "nbformat": 4,
  "nbformat_minor": 0,
  "metadata": {
    "colab": {
      "name": "Copy of DAP5.ipynb",
      "provenance": [],
      "collapsed_sections": []
    },
    "kernelspec": {
      "name": "python3",
      "display_name": "Python 3"
    },
    "language_info": {
      "name": "python"
    }
  },
  "cells": [
    {
      "cell_type": "code",
      "metadata": {
        "colab": {
          "base_uri": "https://localhost:8080/"
        },
        "id": "115vl7MqzYXg",
        "outputId": "48ea7094-5aa1-4135-a5e0-b9cd9ae8dfa3"
      },
      "source": [
        "import numpy as np\n",
        "\n",
        "a=np.array(10)\n",
        "\n",
        "print(\"Print A= \",a)\n",
        "\n",
        "b=np.array([11,22,33])\n",
        "\n",
        "print(\"Print B= \", b)\n",
        "\n",
        "addition= np.add(a,b)\n",
        "\n",
        "print(\"After Addition =\", addition)\n",
        "\n",
        "sub=np.subtract(b,a)\n",
        "\n",
        "print(\"After Subtraction =\",sub)\n",
        "\n",
        "mul=np.multiply (a,b)\n",
        "\n",
        "print(\"After Multiplcation =\",mul)\n",
        "\n",
        "div=np.divide (b,a)\n",
        "\n",
        "print(\"After Division =\",div)\n",
        "\n",
        "div1=np.divide (b,11)\n",
        "\n",
        "print(\"After Division =\",div1)"
      ],
      "execution_count": null,
      "outputs": [
        {
          "output_type": "stream",
          "name": "stdout",
          "text": [
            "Print A=  10\n",
            "Print B=  [11 22 33]\n",
            "After Addition = [21 32 43]\n",
            "After Subtraction = [ 1 12 23]\n",
            "After Multiplcation = [110 220 330]\n",
            "After Division = [1.1 2.2 3.3]\n",
            "After Division = [1. 2. 3.]\n"
          ]
        }
      ]
    },
    {
      "cell_type": "code",
      "metadata": {
        "id": "ohpJst-tqNi7"
      },
      "source": [
        ""
      ],
      "execution_count": null,
      "outputs": []
    },
    {
      "cell_type": "code",
      "metadata": {
        "colab": {
          "base_uri": "https://localhost:8080/"
        },
        "id": "YeCc7OWX0dyn",
        "outputId": "f62fb8c2-f44a-4cb5-8274-ca98ead508bb"
      },
      "source": [
        "a= np.array([0.16,3.33,1,133])\n",
        "\n",
        "print(a)\n",
        "\n",
        "rec=np.reciprocal(a) \n",
        "print(rec)"
      ],
      "execution_count": null,
      "outputs": [
        {
          "output_type": "stream",
          "name": "stdout",
          "text": [
            "[  0.16   3.33   1.   133.  ]\n",
            "[6.25      0.3003003 1.        0.0075188]\n"
          ]
        }
      ]
    },
    {
      "cell_type": "code",
      "metadata": {
        "colab": {
          "base_uri": "https://localhost:8080/"
        },
        "id": "DftIb7ff0sSn",
        "outputId": "1bcec149-5dd0-43a0-e1be-d64f9a7c1426"
      },
      "source": [
        "a=np.array([9,27,81])\n",
        "\n",
        "print(a)\n",
        "\n",
        "pow=np.power(a,3)\n",
        "print(\"after ^3 = \", pow)\n",
        "\n",
        "\n",
        "b=np.array([1,2,1])\n",
        "\n",
        "pow1=np.power(a,b)\n",
        "print(\"after b array elements as ^ = \", pow1)"
      ],
      "execution_count": null,
      "outputs": [
        {
          "output_type": "stream",
          "name": "stdout",
          "text": [
            "[ 9 27 81]\n",
            "after ^3 =  [   729  19683 531441]\n",
            "after b array elements as ^ =  [  9 729  81]\n"
          ]
        }
      ]
    },
    {
      "cell_type": "code",
      "metadata": {
        "colab": {
          "base_uri": "https://localhost:8080/"
        },
        "id": "b3AIU2N81RSz",
        "outputId": "c765fd4d-5ead-4f64-e6da-241f72541436"
      },
      "source": [
        "a= np.array ([5,15,45])\n",
        "b= np.array ([2,4,6])\n",
        "\n",
        "print(\"A=\", a)\n",
        "print(\"B=\", b)\n",
        "\n",
        "mm=np.mod(a,b)\n",
        "\n",
        "rm=np.remainder(a,b)\n",
        "\n",
        "print(\"MOD=\", mm)\n",
        "print(\"REMAINDER=\", rm)"
      ],
      "execution_count": null,
      "outputs": [
        {
          "output_type": "stream",
          "name": "stdout",
          "text": [
            "A= [ 5 15 45]\n",
            "B= [2 4 6]\n",
            "MOD= [1 3 3]\n",
            "REMAINDER= [1 3 3]\n"
          ]
        }
      ]
    },
    {
      "cell_type": "code",
      "metadata": {
        "colab": {
          "base_uri": "https://localhost:8080/"
        },
        "id": "6ljevE712ORX",
        "outputId": "3d036de7-18ea-4578-dc34-63319cb9545c"
      },
      "source": [
        "a=np.array([-1.6j, 0.3j,10, 1+1j])\n",
        "print(a)\n",
        "\n",
        "print(\"real=\",np.real(a))\n",
        "\n",
        "print(\"imaginary=\",np.imag(a))\n",
        "\n",
        "print(\"Conjugate=\", np.conj(a))"
      ],
      "execution_count": null,
      "outputs": [
        {
          "output_type": "stream",
          "name": "stdout",
          "text": [
            "[-0.-1.6j  0.+0.3j 10.+0.j   1.+1.j ]\n",
            "real= [-0.  0. 10.  1.]\n",
            "imaginary= [-1.6  0.3  0.   1. ]\n",
            "Conjugate= [-0.+1.6j  0.-0.3j 10.-0.j   1.-1.j ]\n"
          ]
        }
      ]
    },
    {
      "cell_type": "code",
      "metadata": {
        "colab": {
          "base_uri": "https://localhost:8080/"
        },
        "id": "GziaNoK_2Z6f",
        "outputId": "f6d049e6-b048-45a0-b0d2-d2191e3fbcc7"
      },
      "source": [
        "a=np.array ([12.0,4.6,111,0.56,20.25,52])\n",
        "\n",
        "print(a)\n",
        "\n",
        "print(\"after rounding up=\", np.around(a))\n",
        "\n",
        "print(\"after rounding up to 1st decimal value =\", np.around(a,decimals=1))"
      ],
      "execution_count": null,
      "outputs": [
        {
          "output_type": "stream",
          "name": "stdout",
          "text": [
            "[ 12.     4.6  111.     0.56  20.25  52.  ]\n",
            "after rounding up= [ 12.   5. 111.   1.  20.  52.]\n",
            "after rounding up to 1st decimal value = [ 12.    4.6 111.    0.6  20.2  52. ]\n"
          ]
        }
      ]
    },
    {
      "cell_type": "code",
      "metadata": {
        "colab": {
          "base_uri": "https://localhost:8080/"
        },
        "id": "JQLFQS7A2o0q",
        "outputId": "e6d7c030-2e00-43e9-ef21-8adaaacb1648"
      },
      "source": [
        "a=np.array ([6.0,-5.3,100,-0.100,25.5,321])\n",
        "\n",
        "print(a)\n",
        "\n",
        "print('\\n')\n",
        "\n",
        "print(np.floor(a))\n",
        "\n",
        "print(np.ceil(a))"
      ],
      "execution_count": null,
      "outputs": [
        {
          "output_type": "stream",
          "name": "stdout",
          "text": [
            "[ 6.00e+00 -5.30e+00  1.00e+02 -1.00e-01  2.55e+01  3.21e+02]\n",
            "\n",
            "\n",
            "[  6.  -6. 100.  -1.  25. 321.]\n",
            "[  6.  -5. 100.  -0.  26. 321.]\n"
          ]
        }
      ]
    },
    {
      "cell_type": "code",
      "metadata": {
        "colab": {
          "base_uri": "https://localhost:8080/"
        },
        "id": "sAP49WSW3IpK",
        "outputId": "e7c28741-6c12-4ee6-8790-c508bc179597"
      },
      "source": [
        "np= np.array([1, 2, 3])\n",
        "print(np)"
      ],
      "execution_count": null,
      "outputs": [
        {
          "output_type": "stream",
          "name": "stdout",
          "text": [
            "[1 2 3]\n"
          ]
        }
      ]
    },
    {
      "cell_type": "code",
      "metadata": {
        "colab": {
          "base_uri": "https://localhost:8080/"
        },
        "id": "sT-UcyYg3xYe",
        "outputId": "6e582fd2-f550-48b9-ddbd-18559fa1629c"
      },
      "source": [
        "import numpy as npp\n",
        "a = npp.array([[1 , 2, 3, 4], [5, 6, 7, 8], [9, 10, 11, 12]])\n",
        "print(a)"
      ],
      "execution_count": null,
      "outputs": [
        {
          "output_type": "stream",
          "name": "stdout",
          "text": [
            "[[ 1  2  3  4]\n",
            " [ 5  6  7  8]\n",
            " [ 9 10 11 12]]\n"
          ]
        }
      ]
    },
    {
      "cell_type": "code",
      "metadata": {
        "colab": {
          "base_uri": "https://localhost:8080/"
        },
        "id": "hV2uKUPI35EU",
        "outputId": "91ea6d75-8ae1-4b83-ba22-f5617230755d"
      },
      "source": [
        "import numpy as np\n",
        "a=np.zeros(3)\n",
        "print(a)"
      ],
      "execution_count": null,
      "outputs": [
        {
          "output_type": "stream",
          "name": "stdout",
          "text": [
            "[0. 0. 0.]\n"
          ]
        }
      ]
    },
    {
      "cell_type": "code",
      "metadata": {
        "id": "HIGE2t7id86d"
      },
      "source": [
        ""
      ],
      "execution_count": null,
      "outputs": []
    },
    {
      "cell_type": "code",
      "metadata": {
        "id": "aya-uDyieFgd"
      },
      "source": [
        ""
      ],
      "execution_count": null,
      "outputs": []
    },
    {
      "cell_type": "code",
      "metadata": {
        "colab": {
          "base_uri": "https://localhost:8080/"
        },
        "id": "nHvyeCZm4MRZ",
        "outputId": "5263d9e4-012a-423a-9825-a4599cab643f"
      },
      "source": [
        "ab=np.empty(2)\n",
        "print(ab)"
      ],
      "execution_count": null,
      "outputs": [
        {
          "output_type": "stream",
          "name": "stdout",
          "text": [
            "[0. 0.]\n"
          ]
        }
      ]
    },
    {
      "cell_type": "code",
      "metadata": {
        "colab": {
          "base_uri": "https://localhost:8080/"
        },
        "id": "zY9LK4_p4fBo",
        "outputId": "3baa5c52-d37f-4333-f0ed-54f70f0f7227"
      },
      "source": [
        "a=np.arange(7)\n",
        "print(a)"
      ],
      "execution_count": null,
      "outputs": [
        {
          "output_type": "stream",
          "name": "stdout",
          "text": [
            "[0 1 2 3 4 5 6]\n"
          ]
        }
      ]
    },
    {
      "cell_type": "code",
      "metadata": {
        "colab": {
          "base_uri": "https://localhost:8080/"
        },
        "id": "MgTE_WWM4mwF",
        "outputId": "ff6785a2-5c03-49fe-9417-29d5e526ac1d"
      },
      "source": [
        "a=np.arange(3,9,2)\n",
        "print(a)"
      ],
      "execution_count": null,
      "outputs": [
        {
          "output_type": "stream",
          "name": "stdout",
          "text": [
            "[3 5 7]\n"
          ]
        }
      ]
    },
    {
      "cell_type": "code",
      "metadata": {
        "colab": {
          "base_uri": "https://localhost:8080/"
        },
        "id": "JYKEPegd4_a_",
        "outputId": "e27f873a-91e6-4b46-e37c-ff5401458073"
      },
      "source": [
        "y = np.ones(2, dtype=int)\n",
        "print(y)\n",
        "y"
      ],
      "execution_count": null,
      "outputs": [
        {
          "output_type": "stream",
          "name": "stdout",
          "text": [
            "[1 1]\n"
          ]
        },
        {
          "output_type": "execute_result",
          "data": {
            "text/plain": [
              "array([1, 1])"
            ]
          },
          "metadata": {},
          "execution_count": 23
        }
      ]
    },
    {
      "cell_type": "code",
      "metadata": {
        "colab": {
          "base_uri": "https://localhost:8080/"
        },
        "id": "NCovR9WZ4U-y",
        "outputId": "10c15399-ca7b-46ed-86ba-e57433417b88"
      },
      "source": [
        "arr = np.array([1, 2, 3, 4, 5, 6, 7, 8])\n",
        "print(arr)"
      ],
      "execution_count": null,
      "outputs": [
        {
          "output_type": "stream",
          "name": "stdout",
          "text": [
            "[1 2 3 4 5 6 7 8]\n"
          ]
        }
      ]
    },
    {
      "cell_type": "code",
      "metadata": {
        "colab": {
          "base_uri": "https://localhost:8080/"
        },
        "id": "TlwbDcPF5UFr",
        "outputId": "6563e01f-4060-4e57-d895-0f7cdd1f9c8f"
      },
      "source": [
        "a = np.array([1, 2, 3, 4, 5, 6, 7, 8])\n",
        "print(a)\n",
        "\n",
        "\n",
        "a=np.delete(a, 2)\n",
        "print(a)"
      ],
      "execution_count": null,
      "outputs": [
        {
          "output_type": "stream",
          "name": "stdout",
          "text": [
            "[1 2 3 4 5 6 7 8]\n",
            "[1 2 4 5 6 7 8]\n"
          ]
        }
      ]
    },
    {
      "cell_type": "code",
      "metadata": {
        "colab": {
          "base_uri": "https://localhost:8080/"
        },
        "id": "NhfK7ibT5kyx",
        "outputId": "a465aa5b-dd12-4d12-866f-870a5a2d1736"
      },
      "source": [
        "a = np.array([21, 42, 49, 1, 85, 67, 7, 81])\n",
        "print(a)\n",
        "\n",
        "\n",
        "a=np.sort(a)\n",
        "print(a)"
      ],
      "execution_count": null,
      "outputs": [
        {
          "output_type": "stream",
          "name": "stdout",
          "text": [
            "[21 42 49  1 85 67  7 81]\n",
            "[ 1  7 21 42 49 67 81 85]\n"
          ]
        }
      ]
    },
    {
      "cell_type": "code",
      "metadata": {
        "colab": {
          "base_uri": "https://localhost:8080/"
        },
        "id": "t015Al1a5w_q",
        "outputId": "0e8a43e0-302b-49e5-b978-1c06c493e67d"
      },
      "source": [
        "\n",
        "arr = np.array([[2, 4, 6], [1, 2, 4]])\n",
        "a=arr.ndim\n",
        "print(arr) \n",
        "print(\"dimensions = \", a)"
      ],
      "execution_count": null,
      "outputs": [
        {
          "output_type": "stream",
          "name": "stdout",
          "text": [
            "[[2 4 6]\n",
            " [1 2 4]]\n",
            "dimensions =  2\n"
          ]
        }
      ]
    },
    {
      "cell_type": "code",
      "metadata": {
        "colab": {
          "base_uri": "https://localhost:8080/"
        },
        "id": "KjJbACCF57OZ",
        "outputId": "761c5dcd-b394-43b0-a0cb-7bb8cc73cdae"
      },
      "source": [
        "arr = np.array([[[2, 4, 5], [1, 2, 3]], [[10, 20, 30], [21, 42, 84]]])\n",
        "a=arr.ndim\n",
        "b=arr.size\n",
        "print(arr) \n",
        "print(\"dimensions = \", a)\n",
        "print(\"size = \", b)"
      ],
      "execution_count": null,
      "outputs": [
        {
          "output_type": "stream",
          "name": "stdout",
          "text": [
            "[[[ 2  4  5]\n",
            "  [ 1  2  3]]\n",
            "\n",
            " [[10 20 30]\n",
            "  [21 42 84]]]\n",
            "dimensions =  3\n",
            "size =  12\n"
          ]
        }
      ]
    },
    {
      "cell_type": "code",
      "metadata": {
        "colab": {
          "base_uri": "https://localhost:8080/"
        },
        "id": "U1bMcphn6Hxn",
        "outputId": "44cbce04-4ec1-4402-fa8b-036e5af487b4"
      },
      "source": [
        "a = np.array(50)\n",
        "b = np.array([1, 2, 3, 4, 5])\n",
        "c = np.array([[1, 2, 3], [4, 5, 6]])\n",
        "d = np.array([[[1, 2, 3], [4, 5, 6]], [[1, 2, 3], [4, 5, 6]]])\n",
        "\n",
        "print(a)\n",
        "print(\"dimension= \", a.ndim)\n",
        "print(b)\n",
        "print(\"dimension= \", b.ndim)\n",
        "print(c)\n",
        "print(\"dimension= \", c.ndim)\n",
        "print(d)\n",
        "print(\"dimension= \", d.ndim)"
      ],
      "execution_count": null,
      "outputs": [
        {
          "output_type": "stream",
          "name": "stdout",
          "text": [
            "50\n",
            "dimension=  0\n",
            "[1 2 3 4 5]\n",
            "dimension=  1\n",
            "[[1 2 3]\n",
            " [4 5 6]]\n",
            "dimension=  2\n",
            "[[[1 2 3]\n",
            "  [4 5 6]]\n",
            "\n",
            " [[1 2 3]\n",
            "  [4 5 6]]]\n",
            "dimension=  3\n"
          ]
        }
      ]
    },
    {
      "cell_type": "code",
      "metadata": {
        "colab": {
          "base_uri": "https://localhost:8080/"
        },
        "id": "Uc0wshIa6Zjp",
        "outputId": "a508d530-394e-4cdc-9863-3f16d1de1d41"
      },
      "source": [
        "arr = np.array([[1, 2, 3, 4], [5, 6, 7, 8]])\n",
        "\n",
        "print(arr.shape) "
      ],
      "execution_count": null,
      "outputs": [
        {
          "output_type": "stream",
          "name": "stdout",
          "text": [
            "(2, 4)\n"
          ]
        }
      ]
    },
    {
      "cell_type": "code",
      "metadata": {
        "colab": {
          "base_uri": "https://localhost:8080/"
        },
        "id": "rwR7iXXK6eC4",
        "outputId": "f8f53034-be7f-479d-e6ab-e169e21e2cde"
      },
      "source": [
        "a = np.arange(5)\n",
        "print(a)\n",
        "\n",
        "b = a.reshape(1,5)\n",
        "print(b)"
      ],
      "execution_count": null,
      "outputs": [
        {
          "output_type": "stream",
          "name": "stdout",
          "text": [
            "[0 1 2 3 4]\n",
            "[[0 1 2 3 4]]\n"
          ]
        }
      ]
    },
    {
      "cell_type": "markdown",
      "metadata": {
        "id": "V1U6UJ4nHm-5"
      },
      "source": [
        "**NumpyArraySearch**\n",
        "\n"
      ]
    },
    {
      "cell_type": "code",
      "metadata": {
        "colab": {
          "base_uri": "https://localhost:8080/"
        },
        "id": "V1ip1ESa7otR",
        "outputId": "309564f2-1ec8-4a9e-cb37-c3bd602428c8"
      },
      "source": [
        "import numpy as np\n",
        "\n",
        "arr = np.array([10,11,12,4,5,12])\n",
        "\n",
        "x = np.where(arr == 2)\n",
        "\n",
        "print(x) "
      ],
      "execution_count": null,
      "outputs": [
        {
          "output_type": "stream",
          "name": "stdout",
          "text": [
            "(array([], dtype=int64),)\n"
          ]
        }
      ]
    },
    {
      "cell_type": "code",
      "metadata": {
        "id": "roFgEEPIG4n7"
      },
      "source": [
        "import numpy as np\n",
        "\n",
        "arr = np.array([1, 2, 3, 4, 5, 6, 7, 8])\n",
        "\n",
        "x = np.where(arr%2 == 0)\n",
        "\n",
        "print(x) "
      ],
      "execution_count": null,
      "outputs": []
    },
    {
      "cell_type": "code",
      "metadata": {
        "colab": {
          "base_uri": "https://localhost:8080/"
        },
        "id": "gXibnyNLG_j4",
        "outputId": "ab081cc2-ecf5-487b-90fa-bcac02d47592"
      },
      "source": [
        "import numpy as np\n",
        "\n",
        "arr = np.array([10, 12, 23, 34, 45, 56, 67, 78])\n",
        "\n",
        "x = np.where(arr%2 == 1)\n",
        "\n",
        "print(x) "
      ],
      "execution_count": null,
      "outputs": [
        {
          "output_type": "stream",
          "name": "stdout",
          "text": [
            "(array([2, 4, 6]),)\n"
          ]
        }
      ]
    },
    {
      "cell_type": "code",
      "metadata": {
        "colab": {
          "base_uri": "https://localhost:8080/"
        },
        "id": "MDniStUvHV2v",
        "outputId": "a08d7944-2ce6-44ce-ea70-506bd789f543"
      },
      "source": [
        "import numpy as np\n",
        "\n",
        "arr = np.array([6, 7, 18, 19])\n",
        "\n",
        "x = np.searchsorted(arr,11)\n",
        "\n",
        "print(x) "
      ],
      "execution_count": null,
      "outputs": [
        {
          "output_type": "stream",
          "name": "stdout",
          "text": [
            "2\n"
          ]
        }
      ]
    },
    {
      "cell_type": "code",
      "metadata": {
        "colab": {
          "base_uri": "https://localhost:8080/"
        },
        "id": "gmIAbb6hHXp9",
        "outputId": "a43ad27f-df4e-4f26-dcd9-43aae7a626e5"
      },
      "source": [
        "import numpy as np\n",
        "\n",
        "arr = np.array([6, 7, 8, 9])\n",
        "\n",
        "x = np.searchsorted(arr, 9, side='right')\n",
        "\n",
        "print(x) "
      ],
      "execution_count": null,
      "outputs": [
        {
          "output_type": "stream",
          "name": "stdout",
          "text": [
            "4\n"
          ]
        }
      ]
    },
    {
      "cell_type": "code",
      "metadata": {
        "colab": {
          "base_uri": "https://localhost:8080/"
        },
        "id": "Ka55HboTHdoJ",
        "outputId": "f4bc792d-f335-4ace-feaf-7da1c88fcbb6"
      },
      "source": [
        "import numpy as np\n",
        "\n",
        "arr = np.array([1, 2, 3, 4])\n",
        "\n",
        "x = np.searchsorted(arr, [1, 3, 4])\n",
        "\n",
        "print(x) "
      ],
      "execution_count": null,
      "outputs": [
        {
          "output_type": "stream",
          "name": "stdout",
          "text": [
            "[0 2 3]\n"
          ]
        }
      ]
    },
    {
      "cell_type": "markdown",
      "metadata": {
        "id": "RUNJPhBGHuXS"
      },
      "source": [
        "**ArraySlicing**\n"
      ]
    },
    {
      "cell_type": "code",
      "metadata": {
        "colab": {
          "base_uri": "https://localhost:8080/"
        },
        "id": "NkB7ksHWH_uo",
        "outputId": "c4978a9d-e853-4dc5-c3e2-1f73516b3e98"
      },
      "source": [
        "import numpy as np\n",
        "\n",
        "arr = np.array([11, 21 ,32, 45,63,24,38])\n",
        "\n",
        "print(arr[1:5]) "
      ],
      "execution_count": null,
      "outputs": [
        {
          "output_type": "stream",
          "name": "stdout",
          "text": [
            "[21 32 45 63]\n"
          ]
        }
      ]
    },
    {
      "cell_type": "code",
      "metadata": {
        "colab": {
          "base_uri": "https://localhost:8080/"
        },
        "id": "Hpc99GLFIL_p",
        "outputId": "16078d02-74fd-4f52-a275-89aa5e2c79ea"
      },
      "source": [
        "import numpy as np\n",
        "\n",
        "arr = np.array([11, 21 ,32, 45,63,24,38])\n",
        "\n",
        "print(arr[4:]) "
      ],
      "execution_count": null,
      "outputs": [
        {
          "output_type": "stream",
          "name": "stdout",
          "text": [
            "[63 24 38]\n"
          ]
        }
      ]
    },
    {
      "cell_type": "code",
      "metadata": {
        "colab": {
          "base_uri": "https://localhost:8080/"
        },
        "id": "l-Vvn6ezIRgr",
        "outputId": "96ece622-4b76-4af6-88dc-8caba9ff2762"
      },
      "source": [
        "import numpy as np\n",
        "\n",
        "arr = np.array([11, 21 ,32, 45,63,24,38])\n",
        "\n",
        "print(arr[:4]) "
      ],
      "execution_count": null,
      "outputs": [
        {
          "output_type": "stream",
          "name": "stdout",
          "text": [
            "[11 21 32 45]\n"
          ]
        }
      ]
    },
    {
      "cell_type": "code",
      "metadata": {
        "colab": {
          "base_uri": "https://localhost:8080/"
        },
        "id": "n2xU7nYjIWAt",
        "outputId": "1df827b1-a17d-418e-ca4a-2dba84a2c194"
      },
      "source": [
        "import numpy as np\n",
        "\n",
        "arr = np.array([11, 21 ,32, 45,63,24,38])\n",
        "\n",
        "print(arr[-3:-2])"
      ],
      "execution_count": null,
      "outputs": [
        {
          "output_type": "stream",
          "name": "stdout",
          "text": [
            "[63]\n"
          ]
        }
      ]
    },
    {
      "cell_type": "code",
      "metadata": {
        "colab": {
          "base_uri": "https://localhost:8080/"
        },
        "id": "4qKym8CyIchi",
        "outputId": "44c3404a-2e57-4db9-9850-20bc3c167d65"
      },
      "source": [
        "import numpy as np\n",
        "\n",
        "arr = np.array([11, 21 ,32, 45,63,24,38])\n",
        "\n",
        "print(arr[1:2:3]) "
      ],
      "execution_count": null,
      "outputs": [
        {
          "output_type": "stream",
          "name": "stdout",
          "text": [
            "[21]\n"
          ]
        }
      ]
    },
    {
      "cell_type": "code",
      "metadata": {
        "colab": {
          "base_uri": "https://localhost:8080/"
        },
        "id": "UkhLvzuTIi94",
        "outputId": "1bae277a-9b7c-476a-c2db-e293d51d38d9"
      },
      "source": [
        "import numpy as np\n",
        "\n",
        "arr = np.array([11, 21 ,32, 45,63,24,38])\n",
        "\n",
        "print(arr[::1]) "
      ],
      "execution_count": null,
      "outputs": [
        {
          "output_type": "stream",
          "name": "stdout",
          "text": [
            "[11 21 32 45 63 24 38]\n"
          ]
        }
      ]
    },
    {
      "cell_type": "code",
      "metadata": {
        "colab": {
          "base_uri": "https://localhost:8080/"
        },
        "id": "9QjxJyK3Ip_O",
        "outputId": "3c020a63-60bc-4f7e-ace1-05cec36887d6"
      },
      "source": [
        "import numpy as np\n",
        "\n",
        "arr = np.array([[11, 21 ,32,26], [45,63,24,38]])\n",
        "\n",
        "print(arr[1, 1:2]) "
      ],
      "execution_count": null,
      "outputs": [
        {
          "output_type": "stream",
          "name": "stdout",
          "text": [
            "[63]\n"
          ]
        }
      ]
    },
    {
      "cell_type": "code",
      "metadata": {
        "colab": {
          "base_uri": "https://localhost:8080/"
        },
        "id": "REFQnhCMI0zm",
        "outputId": "432610b6-6e55-4a23-9ee5-0a1f8587257c"
      },
      "source": [
        "import numpy as np\n",
        "\n",
        "arr = np.array([[1, 2, 3, 4, 5], [6, 7, 8, 9, 10],[11,12,13,14,15]])\n",
        "\n",
        "print(arr[2,0:2]) "
      ],
      "execution_count": null,
      "outputs": [
        {
          "output_type": "stream",
          "name": "stdout",
          "text": [
            "[11 12]\n"
          ]
        }
      ]
    },
    {
      "cell_type": "code",
      "metadata": {
        "colab": {
          "base_uri": "https://localhost:8080/"
        },
        "id": "pf-f5X_3JFZd",
        "outputId": "97c9df9e-ac57-48fc-8a49-b3dd716982f1"
      },
      "source": [
        "import numpy as np\n",
        "\n",
        "arr = np.array([[1, 2, 3, 4, 5], [6, 7, 8, 9, 10],[22,33,44,55,66]])\n",
        "\n",
        "print(arr[0:3, 2])"
      ],
      "execution_count": null,
      "outputs": [
        {
          "output_type": "stream",
          "name": "stdout",
          "text": [
            "[ 3  8 44]\n"
          ]
        }
      ]
    },
    {
      "cell_type": "code",
      "metadata": {
        "colab": {
          "base_uri": "https://localhost:8080/"
        },
        "id": "Ig_k4RoXJFi9",
        "outputId": "cdfa3cfe-20b4-458f-bf9c-1d518fdec5dd"
      },
      "source": [
        "import numpy as np\n",
        "\n",
        "arr = np.array([[11, 21 ,32,26], [45,63,24,38]])\n",
        "\n",
        "print(arr[0:2, 1:4]) "
      ],
      "execution_count": null,
      "outputs": [
        {
          "output_type": "stream",
          "name": "stdout",
          "text": [
            "[[21 32 26]\n",
            " [63 24 38]]\n"
          ]
        }
      ]
    },
    {
      "cell_type": "markdown",
      "metadata": {
        "id": "0X62hLtvJRnO"
      },
      "source": [
        "**ArraySplit**\n"
      ]
    },
    {
      "cell_type": "code",
      "metadata": {
        "colab": {
          "base_uri": "https://localhost:8080/"
        },
        "id": "ROn3cR7UJeoz",
        "outputId": "f79a4fde-b96f-4124-b8a6-4f5638e37f02"
      },
      "source": [
        "import numpy as np\n",
        "\n",
        "arr = np.array([11,13,15,17,19])\n",
        "\n",
        "newarr = np.array_split(arr, 3)\n",
        "\n",
        "print(newarr) "
      ],
      "execution_count": null,
      "outputs": [
        {
          "output_type": "stream",
          "name": "stdout",
          "text": [
            "[array([11, 13]), array([15, 17]), array([19])]\n"
          ]
        }
      ]
    },
    {
      "cell_type": "code",
      "metadata": {
        "colab": {
          "base_uri": "https://localhost:8080/"
        },
        "id": "b1T_hYzKJoLj",
        "outputId": "f3e44be6-bf49-4ba0-ec6b-73c4bdf7c811"
      },
      "source": [
        "import numpy as np\n",
        "\n",
        "arr = np.array([11,13,15,17,19])\n",
        "\n",
        "newarr = np.array_split(arr, 2)\n",
        "\n",
        "print(newarr[0])\n",
        "print(newarr[1])\n",
        " "
      ],
      "execution_count": null,
      "outputs": [
        {
          "output_type": "stream",
          "name": "stdout",
          "text": [
            "[11 13 15]\n",
            "[17 19]\n"
          ]
        }
      ]
    },
    {
      "cell_type": "code",
      "metadata": {
        "colab": {
          "base_uri": "https://localhost:8080/"
        },
        "id": "iKN5FJ--JwIK",
        "outputId": "5b3d1845-e253-4185-ce7d-541bda236a37"
      },
      "source": [
        "import numpy as np\n",
        "\n",
        "arr = np.array([[1, 2], [3, 4], [5, 6], [7, 8], [9, 10], [11, 12]])\n",
        "\n",
        "newarr = np.array_split(arr, 3)\n",
        "print(\"\\n\")\n",
        "print(newarr[0])\n",
        "print(\"\\n\")\n",
        "print(newarr[1])\n",
        "print(\"\\n\")\n",
        "print(newarr[2]) "
      ],
      "execution_count": null,
      "outputs": [
        {
          "output_type": "stream",
          "name": "stdout",
          "text": [
            "\n",
            "\n",
            "[[1 2]\n",
            " [3 4]]\n",
            "\n",
            "\n",
            "[[5 6]\n",
            " [7 8]]\n",
            "\n",
            "\n",
            "[[ 9 10]\n",
            " [11 12]]\n"
          ]
        }
      ]
    },
    {
      "cell_type": "code",
      "metadata": {
        "colab": {
          "base_uri": "https://localhost:8080/"
        },
        "id": "fWmcosbtJy-5",
        "outputId": "35188618-c26c-4340-9830-1295048d8254"
      },
      "source": [
        "import numpy as np\n",
        "\n",
        "arr = np.array([[1, 2], [3, 4], [5, 6], [7, 8], [9, 10], [11, 12]])\n",
        "\n",
        "newarr = np.array_split(arr, 4)\n",
        "print(\"\\n\")\n",
        "print(newarr[0])\n",
        "print(newarr[1])\n"
      ],
      "execution_count": null,
      "outputs": [
        {
          "output_type": "stream",
          "name": "stdout",
          "text": [
            "\n",
            "\n",
            "[[1 2]\n",
            " [3 4]]\n",
            "[[5 6]\n",
            " [7 8]]\n"
          ]
        }
      ]
    },
    {
      "cell_type": "code",
      "metadata": {
        "colab": {
          "base_uri": "https://localhost:8080/"
        },
        "id": "jTrycssYJ3_M",
        "outputId": "ae13d04b-e8ed-4cd6-c469-3a27287694fc"
      },
      "source": [
        "import numpy as np\n",
        "\n",
        "arr = np.array([[1, 2, 3], [4, 5, 6], [7, 8, 9], [10, 11, 12], [13, 14, 15], [16, 17, 18]])\n",
        "\n",
        "newarr = np.array_split(arr, 3)\n",
        "print(newarr[0])\n",
        "print(newarr[1])\n",
        "\n",
        "print(newarr[2])"
      ],
      "execution_count": null,
      "outputs": [
        {
          "output_type": "stream",
          "name": "stdout",
          "text": [
            "[[1 2 3]\n",
            " [4 5 6]]\n",
            "[[ 7  8  9]\n",
            " [10 11 12]]\n",
            "[[13 14 15]\n",
            " [16 17 18]]\n"
          ]
        }
      ]
    },
    {
      "cell_type": "code",
      "metadata": {
        "colab": {
          "base_uri": "https://localhost:8080/"
        },
        "id": "EwBL8LY6KPxm",
        "outputId": "743e4209-c7fc-45d5-c56c-831ecb341f56"
      },
      "source": [
        "import numpy as np\n",
        "\n",
        "arr = np.array([[1, 2, 3], [4, 5, 6], [7, 8, 9], [10, 11, 12], [13, 14, 15], [16, 17, 18]])\n",
        "\n",
        "newarr = np.array_split(arr, 3, axis=1)\n",
        "\n",
        "print(\"\\n\")\n",
        "print(newarr[0])\n",
        "print(\"\\n\")\n",
        "print(newarr[1])\n",
        "print(\"\\n\")\n",
        "print(newarr[2])"
      ],
      "execution_count": null,
      "outputs": [
        {
          "output_type": "stream",
          "name": "stdout",
          "text": [
            "\n",
            "\n",
            "[[ 1]\n",
            " [ 4]\n",
            " [ 7]\n",
            " [10]\n",
            " [13]\n",
            " [16]]\n",
            "\n",
            "\n",
            "[[ 2]\n",
            " [ 5]\n",
            " [ 8]\n",
            " [11]\n",
            " [14]\n",
            " [17]]\n",
            "\n",
            "\n",
            "[[ 3]\n",
            " [ 6]\n",
            " [ 9]\n",
            " [12]\n",
            " [15]\n",
            " [18]]\n"
          ]
        }
      ]
    },
    {
      "cell_type": "code",
      "metadata": {
        "colab": {
          "base_uri": "https://localhost:8080/"
        },
        "id": "IQA1JWOYKiQ0",
        "outputId": "0c33d138-e223-4994-e81f-5452fb238e4a"
      },
      "source": [
        "import numpy as np\n",
        "\n",
        "arr = np.array([[1, 2, 3], [4, 5, 6], [7, 8, 9], [10, 11, 12], [13, 14, 15], [16, 17, 18]])\n",
        "\n",
        "newarr = np.hsplit(arr, 3)\n",
        "print(newarr[0])\n",
        "print(newarr[1])\n",
        "print(newarr[2])"
      ],
      "execution_count": null,
      "outputs": [
        {
          "output_type": "stream",
          "name": "stdout",
          "text": [
            "[[ 1]\n",
            " [ 4]\n",
            " [ 7]\n",
            " [10]\n",
            " [13]\n",
            " [16]]\n",
            "[[ 2]\n",
            " [ 5]\n",
            " [ 8]\n",
            " [11]\n",
            " [14]\n",
            " [17]]\n",
            "[[ 3]\n",
            " [ 6]\n",
            " [ 9]\n",
            " [12]\n",
            " [15]\n",
            " [18]]\n"
          ]
        }
      ]
    },
    {
      "cell_type": "code",
      "metadata": {
        "colab": {
          "base_uri": "https://localhost:8080/"
        },
        "id": "Ss9eFLIsKntz",
        "outputId": "ff92fd37-4c37-4ce4-c118-b2bb89ef07c5"
      },
      "source": [
        "import numpy as np\n",
        "\n",
        "arr = np.array([[1, 2, 3], [4, 5, 6], [7, 8, 9], [10, 11, 12], [13, 14, 15], [16, 17, 18]])\n",
        "\n",
        "newarr = np.vsplit(arr, 3)\n",
        "print(newarr[0])\n",
        "print(newarr[1])\n",
        "print(newarr[2])"
      ],
      "execution_count": null,
      "outputs": [
        {
          "output_type": "stream",
          "name": "stdout",
          "text": [
            "[[1 2 3]\n",
            " [4 5 6]]\n",
            "[[ 7  8  9]\n",
            " [10 11 12]]\n",
            "[[13 14 15]\n",
            " [16 17 18]]\n"
          ]
        }
      ]
    },
    {
      "cell_type": "markdown",
      "metadata": {
        "id": "Q-hUP862KukY"
      },
      "source": [
        "**numpy concat, stack**"
      ]
    },
    {
      "cell_type": "code",
      "metadata": {
        "colab": {
          "base_uri": "https://localhost:8080/"
        },
        "id": "Up8Osbh2K4z2",
        "outputId": "83b4348c-93a7-4c0b-efe2-8a58f8fb9338"
      },
      "source": [
        "import numpy as np\n",
        "\n",
        "arr1 = np.array([10, 20, 30])\n",
        "\n",
        "arr2 = np.array([40, 50, 60])\n",
        "\n",
        "arr = np.concatenate((arr1, arr2))\n",
        "\n",
        "print(arr) "
      ],
      "execution_count": null,
      "outputs": [
        {
          "output_type": "stream",
          "name": "stdout",
          "text": [
            "[10 20 30 40 50 60]\n"
          ]
        }
      ]
    },
    {
      "cell_type": "code",
      "metadata": {
        "colab": {
          "base_uri": "https://localhost:8080/"
        },
        "id": "-OVsVXdXLJrP",
        "outputId": "953ad38c-4b50-4efa-be34-ae711d0a504e"
      },
      "source": [
        "import numpy as np\n",
        "\n",
        "arr1 = np.array([[1, 3], [5, 7]])\n",
        "\n",
        "print(\"arr1=\", arr1) \n",
        "\n",
        "arr2 = np.array([[5, 6], [7, 8]])\n",
        "\n",
        "print(\"arr2=\", arr2) \n",
        "\n",
        "print(\"after concatenation =\")\n",
        "\n",
        "arr = np.concatenate((arr1, arr2), axis=1)\n",
        "\n",
        "print(arr) "
      ],
      "execution_count": null,
      "outputs": [
        {
          "output_type": "stream",
          "name": "stdout",
          "text": [
            "arr1= [[1 3]\n",
            " [5 7]]\n",
            "arr2= [[5 6]\n",
            " [7 8]]\n",
            "after concatenation =\n",
            "[[1 3 5 6]\n",
            " [5 7 7 8]]\n"
          ]
        }
      ]
    },
    {
      "cell_type": "code",
      "metadata": {
        "colab": {
          "base_uri": "https://localhost:8080/"
        },
        "id": "--pruHTfLUH1",
        "outputId": "358b9be9-fb9e-4511-c3d5-c8163365a297"
      },
      "source": [
        "import numpy as np\n",
        "\n",
        "arr1 = np.array([1, 3, 5])\n",
        "\n",
        "arr2 = np.array([4, 5, 6])\n",
        "\n",
        "arr = np.hstack((arr1, arr2))\n",
        "\n",
        "print(arr) "
      ],
      "execution_count": null,
      "outputs": [
        {
          "output_type": "stream",
          "name": "stdout",
          "text": [
            "[1 3 5 4 5 6]\n"
          ]
        }
      ]
    },
    {
      "cell_type": "code",
      "metadata": {
        "colab": {
          "base_uri": "https://localhost:8080/"
        },
        "id": "vYBk4sQHLa_L",
        "outputId": "37000e1f-d6dc-47be-c5b8-2ade37bf5165"
      },
      "source": [
        "import numpy as np\n",
        "\n",
        "arr1 = np.array([1, 3, 5])\n",
        "\n",
        "arr2 = np.array([4, 5, 6])\n",
        "\n",
        "arr = np.vstack((arr1, arr2))\n",
        "\n",
        "print(arr) "
      ],
      "execution_count": null,
      "outputs": [
        {
          "output_type": "stream",
          "name": "stdout",
          "text": [
            "[[1 3 5]\n",
            " [4 5 6]]\n"
          ]
        }
      ]
    },
    {
      "cell_type": "code",
      "metadata": {
        "colab": {
          "base_uri": "https://localhost:8080/"
        },
        "id": "-5gaps1ILhjt",
        "outputId": "6625c978-2598-4aad-b293-a0f12c535004"
      },
      "source": [
        "a = np.array([1,3,5])\n",
        "\n",
        "b = np.array([4,5,6])\n",
        "\n",
        "print(\"hstack =\", np.hstack((a,b)))\n",
        "\n",
        "print(\"vstack =\", np.vstack((a,b)))\n",
        "\n",
        "a = np.array([[1],[3],[5]])\n",
        "\n",
        "b = np.array([[4],[5],[6]])\n",
        "\n",
        "print(\"hstack =\", np.hstack((a,b)))\n",
        "\n",
        "print(\"vstack =\", np.vstack((a,b)))\n"
      ],
      "execution_count": null,
      "outputs": [
        {
          "output_type": "stream",
          "name": "stdout",
          "text": [
            "hstack = [1 3 5 4 5 6]\n",
            "vstack = [[1 3 5]\n",
            " [4 5 6]]\n",
            "hstack = [[1 4]\n",
            " [3 5]\n",
            " [5 6]]\n",
            "vstack = [[1]\n",
            " [3]\n",
            " [5]\n",
            " [4]\n",
            " [5]\n",
            " [6]]\n"
          ]
        }
      ]
    },
    {
      "cell_type": "code",
      "metadata": {
        "colab": {
          "base_uri": "https://localhost:8080/"
        },
        "id": "qUFPyOhkLo_f",
        "outputId": "198b347c-0745-4176-bfdd-60f4274413da"
      },
      "source": [
        "a = np.array([[1,2,3],[10,20,30],[110,220,330],[1100,2200,3300]])\n",
        "\n",
        "b = np.array([[7,8,9],[77,88,99],[700,800,900],[7770,8880,9990]])\n",
        "\n",
        "print(\"\\nhstack =\\n\", np.hstack((a,b)))\n",
        "\n",
        "print(\"\\nvstack =\\n\", np.vstack((a,b)))\n",
        "\n",
        "arr = np.concatenate((a, b), axis=0)\n",
        "print(\"\\n concatenate at axis 0=\\n\",arr)\n",
        "\n",
        "arr1 = np.concatenate((a, b), axis=1)\n",
        "print(\"\\n concatenate at axis 1=\\n\",arr1)"
      ],
      "execution_count": null,
      "outputs": [
        {
          "output_type": "stream",
          "name": "stdout",
          "text": [
            "\n",
            "hstack =\n",
            " [[   1    2    3    7    8    9]\n",
            " [  10   20   30   77   88   99]\n",
            " [ 110  220  330  700  800  900]\n",
            " [1100 2200 3300 7770 8880 9990]]\n",
            "\n",
            "vstack =\n",
            " [[   1    2    3]\n",
            " [  10   20   30]\n",
            " [ 110  220  330]\n",
            " [1100 2200 3300]\n",
            " [   7    8    9]\n",
            " [  77   88   99]\n",
            " [ 700  800  900]\n",
            " [7770 8880 9990]]\n",
            "\n",
            " concatenate at axis 0=\n",
            " [[   1    2    3]\n",
            " [  10   20   30]\n",
            " [ 110  220  330]\n",
            " [1100 2200 3300]\n",
            " [   7    8    9]\n",
            " [  77   88   99]\n",
            " [ 700  800  900]\n",
            " [7770 8880 9990]]\n",
            "\n",
            " concatenate at axis 1=\n",
            " [[   1    2    3    7    8    9]\n",
            " [  10   20   30   77   88   99]\n",
            " [ 110  220  330  700  800  900]\n",
            " [1100 2200 3300 7770 8880 9990]]\n"
          ]
        }
      ]
    },
    {
      "cell_type": "code",
      "metadata": {
        "colab": {
          "base_uri": "https://localhost:8080/"
        },
        "id": "kq2HGglLMBL-",
        "outputId": "752333c8-b475-482a-9c2f-865499c0581e"
      },
      "source": [
        "a= np.array([[1, 2, 3], [4, 5, 6]])\n",
        "print(a)"
      ],
      "execution_count": null,
      "outputs": [
        {
          "output_type": "stream",
          "name": "stdout",
          "text": [
            "[[1 2 3]\n",
            " [4 5 6]]\n"
          ]
        }
      ]
    },
    {
      "cell_type": "code",
      "metadata": {
        "colab": {
          "base_uri": "https://localhost:8080/"
        },
        "id": "V2fKMNs-ME3M",
        "outputId": "4b8b4455-10b3-46ea-df9b-b718efe7432a"
      },
      "source": [
        "c = np.array([[7,8,9]])\n",
        "print(c)"
      ],
      "execution_count": null,
      "outputs": [
        {
          "output_type": "stream",
          "name": "stdout",
          "text": [
            "[[7 8 9]]\n"
          ]
        }
      ]
    },
    {
      "cell_type": "code",
      "metadata": {
        "colab": {
          "base_uri": "https://localhost:8080/"
        },
        "id": "Y6yL2Wr-MHrh",
        "outputId": "a4c26b5a-8f31-4195-8432-a3d80806b191"
      },
      "source": [
        "np.append(a,c, axis=0)"
      ],
      "execution_count": null,
      "outputs": [
        {
          "output_type": "execute_result",
          "data": {
            "text/plain": [
              "array([[1, 2, 3],\n",
              "       [4, 5, 6],\n",
              "       [7, 8, 9]])"
            ]
          },
          "metadata": {},
          "execution_count": 41
        }
      ]
    },
    {
      "cell_type": "code",
      "metadata": {
        "colab": {
          "base_uri": "https://localhost:8080/"
        },
        "id": "ML7U26nWMOPg",
        "outputId": "820c8c36-86af-4035-b4e9-3d2223c21849"
      },
      "source": [
        "import numpy as np\n",
        "a = np.array([2,4,6])\n",
        "b = np.array([1,3])\n",
        "np.concatenate((a,b))"
      ],
      "execution_count": null,
      "outputs": [
        {
          "output_type": "execute_result",
          "data": {
            "text/plain": [
              "array([2, 4, 6, 1, 3])"
            ]
          },
          "metadata": {},
          "execution_count": 42
        }
      ]
    },
    {
      "cell_type": "code",
      "metadata": {
        "colab": {
          "base_uri": "https://localhost:8080/"
        },
        "id": "d90n4H04MVVu",
        "outputId": "a2b0fc1d-0ecf-457d-8f1c-071140286600"
      },
      "source": [
        "np.r_[a,b]"
      ],
      "execution_count": null,
      "outputs": [
        {
          "output_type": "execute_result",
          "data": {
            "text/plain": [
              "array([2, 4, 6, 1, 3])"
            ]
          },
          "metadata": {},
          "execution_count": 43
        }
      ]
    },
    {
      "cell_type": "code",
      "metadata": {
        "colab": {
          "base_uri": "https://localhost:8080/"
        },
        "id": "DB7A03M-MYCQ",
        "outputId": "87bcf53b-0a80-4acd-ab51-b3456fd04d76"
      },
      "source": [
        "a = np.array([1,3,5])\n",
        "b = np.array([2,4,6])\n",
        "np.stack([a,b]).reshape(-1)"
      ],
      "execution_count": null,
      "outputs": [
        {
          "output_type": "execute_result",
          "data": {
            "text/plain": [
              "array([1, 3, 5, 2, 4, 6])"
            ]
          },
          "metadata": {},
          "execution_count": 44
        }
      ]
    },
    {
      "cell_type": "code",
      "metadata": {
        "colab": {
          "base_uri": "https://localhost:8080/"
        },
        "id": "L3MfCCjeMe_h",
        "outputId": "9de4c412-46bc-448b-a3a7-103492e465a5"
      },
      "source": [
        "a = np.array([1, 2,3])\n",
        "b = np.array([5, 6,7])\n",
        "np.stack([a,b])"
      ],
      "execution_count": null,
      "outputs": [
        {
          "output_type": "execute_result",
          "data": {
            "text/plain": [
              "array([[1, 2, 3],\n",
              "       [5, 6, 7]])"
            ]
          },
          "metadata": {},
          "execution_count": 45
        }
      ]
    },
    {
      "cell_type": "code",
      "metadata": {
        "colab": {
          "base_uri": "https://localhost:8080/"
        },
        "id": "pvbKKRMnMiWa",
        "outputId": "e50e05e8-d5e3-4d1c-e6f4-dc874136830e"
      },
      "source": [
        "a = np.array([[1,2,3],[10,20,30],[110,220,330],[1100,2200,3300]])\n",
        "\n",
        "b = np.array([[7,8,9],[77,88,99],[700,800,900],[7770,8880,9990]])\n",
        "\n",
        "print(\"\\nhstack =\\n\", np.hstack((a,b)))\n",
        "print(\"\\nvstack =\\n\", np.vstack((a,b)))"
      ],
      "execution_count": null,
      "outputs": [
        {
          "output_type": "stream",
          "name": "stdout",
          "text": [
            "\n",
            "hstack =\n",
            " [[   1    2    3    7    8    9]\n",
            " [  10   20   30   77   88   99]\n",
            " [ 110  220  330  700  800  900]\n",
            " [1100 2200 3300 7770 8880 9990]]\n",
            "\n",
            "vstack =\n",
            " [[   1    2    3]\n",
            " [  10   20   30]\n",
            " [ 110  220  330]\n",
            " [1100 2200 3300]\n",
            " [   7    8    9]\n",
            " [  77   88   99]\n",
            " [ 700  800  900]\n",
            " [7770 8880 9990]]\n"
          ]
        }
      ]
    },
    {
      "cell_type": "code",
      "metadata": {
        "colab": {
          "base_uri": "https://localhost:8080/"
        },
        "id": "dZxnv-IlMp30",
        "outputId": "0d144881-6e74-43ea-baf9-1b217d688b8c"
      },
      "source": [
        "a = np.array([[1],[3],[5]])\n",
        "\n",
        "b = np.array([[7],[9],[11]])\n",
        "\n",
        "print(\"\\nhstack =\\n\", np.hstack((a,b)))\n",
        "print(\"\\nvstack =\\n\", np.vstack((a,b)))"
      ],
      "execution_count": null,
      "outputs": [
        {
          "output_type": "stream",
          "name": "stdout",
          "text": [
            "\n",
            "hstack =\n",
            " [[ 1  7]\n",
            " [ 3  9]\n",
            " [ 5 11]]\n",
            "\n",
            "vstack =\n",
            " [[ 1]\n",
            " [ 3]\n",
            " [ 5]\n",
            " [ 7]\n",
            " [ 9]\n",
            " [11]]\n"
          ]
        }
      ]
    },
    {
      "cell_type": "code",
      "metadata": {
        "colab": {
          "base_uri": "https://localhost:8080/"
        },
        "id": "RwnTKKkiMxc9",
        "outputId": "dd33dd9d-8b26-4e8d-ed69-55b59e4fd0b4"
      },
      "source": [
        "a = np.array([[1,2],[3,4]])\n",
        "\n",
        "b = np.array([[5,6],[7,8]])\n",
        "\n",
        "print(\"\\nhstack =\\n\", np.hstack((a,b)))\n",
        "\n",
        "print(\"\\n======next print======\")\n",
        "\n",
        "print(\"\\nvstack =\\n\", np.vstack((a,b)))"
      ],
      "execution_count": null,
      "outputs": [
        {
          "output_type": "stream",
          "name": "stdout",
          "text": [
            "\n",
            "hstack =\n",
            " [[1 2 5 6]\n",
            " [3 4 7 8]]\n",
            "\n",
            "======next print======\n",
            "\n",
            "vstack =\n",
            " [[1 2]\n",
            " [3 4]\n",
            " [5 6]\n",
            " [7 8]]\n"
          ]
        }
      ]
    },
    {
      "cell_type": "code",
      "metadata": {
        "colab": {
          "base_uri": "https://localhost:8080/"
        },
        "id": "jCjmIrFEM1r0",
        "outputId": "1ef9f03b-dc7e-47c4-98d0-04e09881cc6b"
      },
      "source": [
        "import numpy as np\n",
        "a = np.array([[1, 3], [5, 7]])\n",
        "b = np.array([[5, 7]])\n",
        "np.concatenate((a, b), axis=0)"
      ],
      "execution_count": null,
      "outputs": [
        {
          "output_type": "execute_result",
          "data": {
            "text/plain": [
              "array([[1, 3],\n",
              "       [5, 7],\n",
              "       [5, 7]])"
            ]
          },
          "metadata": {},
          "execution_count": 49
        }
      ]
    },
    {
      "cell_type": "code",
      "metadata": {
        "colab": {
          "base_uri": "https://localhost:8080/"
        },
        "id": "4Tz0YwomM11e",
        "outputId": "1820f3a2-75a2-4122-cf04-d884ffc8fd06"
      },
      "source": [
        "np.vstack((a,b))"
      ],
      "execution_count": null,
      "outputs": [
        {
          "output_type": "execute_result",
          "data": {
            "text/plain": [
              "array([[1, 3],\n",
              "       [5, 7],\n",
              "       [5, 7]])"
            ]
          },
          "metadata": {},
          "execution_count": 50
        }
      ]
    },
    {
      "cell_type": "code",
      "metadata": {
        "colab": {
          "base_uri": "https://localhost:8080/",
          "height": 218
        },
        "id": "7PACNdd8M--y",
        "outputId": "ad10cc43-7078-4d27-b141-2923b1a87f56"
      },
      "source": [
        "np.concatenate((a, b), axis=1)"
      ],
      "execution_count": null,
      "outputs": [
        {
          "output_type": "error",
          "ename": "ValueError",
          "evalue": "ignored",
          "traceback": [
            "\u001b[0 31m---------------------------------------------------------------------------\u001b[0m",
            "\u001b[0 31mValueError\u001b[0m                                Traceback (most recent call last)",
            "\u001b[0 32m<ipython-input-51-ab47451b2341>\u001b[0m in \u001b[0 36m<module>\u001b[0 34m()\u001b[0m\n\u001b[0 32m----> 1\u001b[0 31m \u001b[0mnp\u001b[0m\u001b[0 34m.\u001b[0m\u001b[0mconcatenate\u001b[0m\u001b[0 34m(\u001b[0m\u001b[0 34m(\u001b[0m\u001b[0ma\u001b[0m\u001b[0 34m,\u001b[0m \u001b[0mb\u001b[0m\u001b[0 34m)\u001b[0m\u001b[0 34m,\u001b[0m \u001b[0maxis\u001b[0m\u001b[0 34m=\u001b[0m\u001b[0 36m1\u001b[0m\u001b[0 34m)\u001b[0m\u001b[0 34m\u001b[0m\u001b[0 34m\u001b[0m\u001b[0m\n\u001b[0m",
            "\u001b[0 32m<__array_function__ internals>\u001b[0m in \u001b[0 36mconcatenate\u001b[0 34m(*args, **kwargs)\u001b[0m\n",
            "\u001b[0 31mValueError\u001b[0m: all the input array dimensions for the concatenation axis must match exactly, but along dimension 0, the array at index 0 has size 2 and the array at index 1 has size 1"
          ]
        }
      ]
    },
    {
      "cell_type": "code",
      "metadata": {
        "colab": {
          "base_uri": "https://localhost:8080/"
        },
        "id": "7tiy9ZEeNB8A",
        "outputId": "e53d6860-cc66-47d1-a457-22acc9e44ff9"
      },
      "source": [
        "np.concatenate((a, b.T), axis=1)"
      ],
      "execution_count": null,
      "outputs": [
        {
          "output_type": "execute_result",
          "data": {
            "text/plain": [
              "array([[1, 3, 5],\n",
              "       [5, 7, 7]])"
            ]
          },
          "metadata": {},
          "execution_count": 52
        }
      ]
    },
    {
      "cell_type": "code",
      "metadata": {
        "colab": {
          "base_uri": "https://localhost:8080/"
        },
        "id": "XrBQFEULNH4n",
        "outputId": "0bb70121-27a0-4326-9abe-869b6f3774ee"
      },
      "source": [
        "import numpy as np\n",
        "a = np.array([[1, 3], [5, 7]])\n",
        "b = np.array([5, 7])\n",
        "bb= np.array([[5, 7],[9,11]])\n",
        "cc=b.T\n",
        "\n",
        "print(\"vstack=\",np.vstack((a,cc)))\n",
        "\n",
        "print(\"hstack=\",np.hstack((a,bb)))"
      ],
      "execution_count": null,
      "outputs": [
        {
          "output_type": "stream",
          "name": "stdout",
          "text": [
            "vstack= [[1 3]\n",
            " [5 7]\n",
            " [5 7]]\n",
            "hstack= [[ 1  3  5  7]\n",
            " [ 5  7  9 11]]\n"
          ]
        }
      ]
    },
    {
      "cell_type": "code",
      "metadata": {
        "colab": {
          "base_uri": "https://localhost:8080/"
        },
        "id": "UNDepcGONOO1",
        "outputId": "e5e6ef3e-b350-4b13-d9a5-7376724dd10e"
      },
      "source": [
        "a = np.array((1,2,3))\n",
        "b = np.array((7,8,9))\n",
        "print(a)\n",
        "print(b)\n",
        "\n",
        "print(\"vstack\\n\")\n",
        "print(np.vstack((a,b)))\n",
        "print(\"concatenate\\n\")\n",
        "print(np.concatenate([a.reshape(1,3),b.reshape(1,3)]))\n",
        "print(\"stack\\n\")\n",
        "print(np.stack((a,b),axis=1))\n",
        "print(\"concatenate\\n\")\n",
        "print(np.concatenate((a.reshape(1,3),b.reshape(1,3)),axis = 1))\n",
        "print(\"stack\\n\")\n",
        "print(np.stack((a,b),axis=0))\n",
        "print(\"concatenate\\n\")\n",
        "print(np.concatenate((a.reshape(1,3),b.reshape(1,3)),axis = 0))"
      ],
      "execution_count": null,
      "outputs": [
        {
          "output_type": "stream",
          "name": "stdout",
          "text": [
            "[1 2 3]\n",
            "[7 8 9]\n",
            "vstack\n",
            "\n",
            "[[1 2 3]\n",
            " [7 8 9]]\n",
            "concatenate\n",
            "\n",
            "[[1 2 3]\n",
            " [7 8 9]]\n",
            "stack\n",
            "\n",
            "[[1 7]\n",
            " [2 8]\n",
            " [3 9]]\n",
            "concatenate\n",
            "\n",
            "[[1 2 3 7 8 9]]\n",
            "stack\n",
            "\n",
            "[[1 2 3]\n",
            " [7 8 9]]\n",
            "concatenate\n",
            "\n",
            "[[1 2 3]\n",
            " [7 8 9]]\n"
          ]
        }
      ]
    }
  ]
}